{
 "cells": [
  {
   "cell_type": "code",
   "execution_count": 4,
   "metadata": {},
   "outputs": [],
   "source": [
    "# tell python where the MUQ libraries are installed\n",
    "import sys\n",
    "sys.path.insert(0, \"/your/muq/install/lib/\")\n",
    "\n",
    "# import ploting tools\n",
    "import matplotlib as mpl\n",
    "#mpl.use('TKAgg')\n",
    "import matplotlib.pyplot as plt\n",
    "\n",
    "# import numpy, which we use for linear algebra in python\n",
    "import numpy as np\n",
    "\n",
    "import h5py\n",
    "\n",
    "import random\n",
    "\n",
    "# import the MUQ libraries\n",
    "import pymuqUtilities as mu # import MUQ utilities module\n",
    "import pymuqModeling as mm # import MUQ modeling module\n",
    "import pymuqApproximationWrappers as ma # import MUQ approximation module\n",
    "import pymuqSamplingAlgorithms as msa\n"
   ]
  },
  {
   "cell_type": "code",
   "execution_count": 5,
   "metadata": {},
   "outputs": [],
   "source": [
    "mu = np.array([.5, 3.0]) # mean\n",
    "cov = np.array([[1.0,0.8],[0.8,1.5]]) # covariance\n",
    "targetDensity = mm.Gaussian(mu, cov).AsDensity()\n",
    "problem = msa.SamplingProblem(targetDensity)\n",
    "\n",
    "\n",
    "mu = np.array([1.0, 2.0]) # mean\n",
    "cov = np.array([[1.0,0.8],[0.8,1.5]]) # covariance\n",
    "targetDensity = mm.Gaussian(mu, cov).AsDensity()\n",
    "problem2 = msa.SamplingProblem(targetDensity)"
   ]
  },
  {
   "cell_type": "code",
   "execution_count": 6,
   "metadata": {},
   "outputs": [
    {
     "name": "stdout",
     "output_type": "stream",
     "text": [
      "Starting single chain MCMC sampler...\n",
      "  10% Complete\n",
      "    Block 0:\n",
      "      Acceptance Rate = 99%\n",
      "  20% Complete\n",
      "    Block 0:\n",
      "      Acceptance Rate = 93%\n",
      "  30% Complete\n",
      "    Block 0:\n",
      "      Acceptance Rate = 91%\n",
      "  40% Complete\n",
      "    Block 0:\n",
      "      Acceptance Rate = 90%\n",
      "  50% Complete\n",
      "    Block 0:\n",
      "      Acceptance Rate = 89%\n",
      "  60% Complete\n",
      "    Block 0:\n",
      "      Acceptance Rate = 89%\n",
      "  70% Complete\n",
      "    Block 0:\n",
      "      Acceptance Rate = 88%\n",
      "  80% Complete\n",
      "    Block 0:\n",
      "      Acceptance Rate = 88%\n",
      "  90% Complete\n",
      "    Block 0:\n",
      "      Acceptance Rate = 88%\n",
      "  100% Complete\n",
      "    Block 0:\n",
      "      Acceptance Rate = 88%\n",
      "Completed in 0.0361442 seconds.\n",
      "[0.88803945 1.77947255]\n",
      "********* Sampling!10000\n",
      "[0.8453807  2.21995855]\n"
     ]
    }
   ],
   "source": [
    "nmcmc = 10000\n",
    "trueCoeff = mu\n",
    "\n",
    "# MCMC\n",
    "options = dict()\n",
    "options['NumSamples'] = nmcmc\n",
    "options['PrintLevel'] = 3\n",
    "options['KernelList'] = 'Kernel1'\n",
    "options['Kernel1.Method'] = 'MHKernel'\n",
    "options['Kernel1.Proposal'] = 'MyProposal'\n",
    "options['Kernel1.MyProposal.Method'] = 'AMProposal'\n",
    "options['Kernel1.MyProposal.InitialVariance'] = 0.01\n",
    "options['Kernel1.MyProposal.AdaptSteps'] = 100\n",
    "options['Kernel1.MyProposal.AdaptStart'] = 1000\n",
    "options['Kernel1.MyProposal.AdaptScale'] = 0.05\n",
    "\n",
    "# create the MCMC sampler\n",
    "mcmc = msa.SingleChainMCMC(options, problem2)\n",
    "samps = mcmc.Run([trueCoeff])\n",
    "print(samps.Mean())\n",
    "\n",
    "\n",
    "# MLMCMC\n",
    "mioptions = dict()\n",
    "mioptions['NumSamples'] = nmcmc\n",
    "mioptions['Subsampling'] = 5\n",
    "mioptions['Proposal.Method'] = 'AMProposal'\n",
    "mioptions['Proposal.InitialVariance'] = 0.01\n",
    "mioptions['Proposal.AdaptSteps'] = 100\n",
    "mioptions['Proposal.AdaptStart'] = 1000\n",
    "mioptions['Proposal.AdaptScale'] = 0.05\n",
    "\n",
    "mimcmc = msa.MIMCMC(mioptions, trueCoeff, [problem2, problem])\n",
    "mimcmc.Run([trueCoeff])\n",
    "print(mimcmc.MeanParam())"
   ]
  },
  {
   "cell_type": "code",
   "execution_count": null,
   "metadata": {},
   "outputs": [],
   "source": []
  }
 ],
 "metadata": {
  "kernelspec": {
   "display_name": "Python 3",
   "language": "python",
   "name": "python3"
  },
  "language_info": {
   "codemirror_mode": {
    "name": "ipython",
    "version": 3
   },
   "file_extension": ".py",
   "mimetype": "text/x-python",
   "name": "python",
   "nbconvert_exporter": "python",
   "pygments_lexer": "ipython3",
   "version": "3.8.2"
  }
 },
 "nbformat": 4,
 "nbformat_minor": 4
}
