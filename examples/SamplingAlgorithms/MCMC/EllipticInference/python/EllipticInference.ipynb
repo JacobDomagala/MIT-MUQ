{
 "cells": [
  {
   "cell_type": "markdown",
   "id": "6658ce2d-9d26-4e91-a947-b5e6eeae4c2c",
   "metadata": {},
   "source": [
    "## Background\n",
    "\n",
    "A canonical inverse problem is to infer the spatially varying parameter field $k(x)$ in the following elliptic PDE\n",
    "$$\n",
    "-\\nabla\\cdot\\left[ k \\nabla h\\right] = f,\n",
    "$$\n",
    "where $h(x)$ is the solution of the PDE and $f(x)$ is a source term.   We consider this PDE in a one dimensional (i.e., $x\\in\\mathbb{R}$) setting with boundary conditions given by\n",
    "$$\n",
    "\\begin{aligned}\n",
    "h(0) &= 0\\\\\n",
    "\\left. \\frac{\\partial h}{\\partial x}\\right|_{x=1} &= 0.\n",
    "\\end{aligned}\n",
    "$$\n",
    "\n",
    "This equation can be used to describe many different diffusive processes, such as heat conduction, groundwater flow, and contaminant diffusion.    This example interprets the PDE in the context of groundwater flow, meaning that $h(x)$ represents the hydraulic head in a confined aquifer, $f(x)$ represents recharge of water entering the aquifer, and $k(x)$ is the hydraulic conductivity, which describes how difficult it is for water to pass through the aquifer.\n",
    "\n",
    "The hydraulic head $h(x)$ can be measured at individual points $x_1,x_2,\\ldots,x_M$ by drilling boreholes into an aquifer and measuring the pressure in the borehole.  The conductivity $k(x)$ however, cannot be observed directly.   We will therefore consider estimating the hydraulic conductivity $k(x)$ from noisy measurements of $h(x_1), h(x_2),\\ldots, h(x_M)$.   \n",
    "\n",
    "**The goal of this example is to demonstrate the use of MUQ for solving Bayesian inverse with PDE models.**   The model is implemented in a MUQ ModPiece that accepts a discreteized conductivity field $k(x)$ as an input and returns a discretized hydraulic head.  The implementation of the PDE solver, adjoint gradients, and Hessian information is described in detail in the [FlowEquation](../../../../Modeling/FlowEquation/python/DarcyFlow.ipynb) modeling example.  Here we simply use the ModPiece that was implemented in that example.\n",
    "\n",
    "### Imports"
   ]
  },
  {
   "cell_type": "code",
   "execution_count": 1,
   "id": "2654b1d9-6fb4-4e19-802d-337ef91a9771",
   "metadata": {},
   "outputs": [],
   "source": [
    "import muq.Modeling as mm \n",
    "import muq.SamplingAlgorithms as ms \n",
    "import muq.Utilities as mu\n",
    "import muq.Approximation as ma \n",
    "import muq.Optimization as mo\n",
    "\n",
    "from FlowEquation import FlowEquation\n",
    "\n",
    "import numpy as np\n",
    "import matplotlib.pyplot as plt "
   ]
  },
  {
   "cell_type": "markdown",
   "id": "f24242e5-ba5e-405d-b1a1-cebea4197bcc",
   "metadata": {},
   "source": [
    "## Inverse Problem Formulation\n",
    "\n",
    "#### Discretization\n",
    "Assume that $x\\in[0,1]$ and that the conductivity field is defined as piecwise constant on $N$ uniformly sized cells dividing up $[0,1]$.  There are $N+1$ nodes in the discretization.\n"
   ]
  },
  {
   "cell_type": "code",
   "execution_count": 2,
   "id": "996b710f-3676-491c-8289-a77dafacd186",
   "metadata": {},
   "outputs": [],
   "source": [
    "class Discretization:\n",
    "    \n",
    "    def __init__(self,numCells):\n",
    "        self.numCells = numCells\n",
    "        self.numNodes = numCells+1\n",
    "\n",
    "        self.nodeLocs = np.linspace(0,1,numCells+1)\n",
    "\n",
    "        self.cellLocs = 0.5*(self.nodeLocs[:-1] + self.nodeLocs[1:]).reshape(1,-1)"
   ]
  },
  {
   "cell_type": "code",
   "execution_count": 3,
   "id": "3af101b2-a3e0-41eb-93a7-dca48650fda6",
   "metadata": {},
   "outputs": [],
   "source": [
    "# Define the mesh\n",
    "numCells = 50\n",
    "mesh = Discretization(numCells)"
   ]
  },
  {
   "cell_type": "markdown",
   "id": "a8009346-1451-4b24-a267-c46bac497181",
   "metadata": {},
   "source": [
    "#### Prior Distribution\n",
    "\n",
    "$$\n",
    "\\log k(x) \\sim GP(0,k(x,x^\\prime))\n",
    "$$"
   ]
  },
  {
   "cell_type": "code",
   "execution_count": 4,
   "id": "fbd44694-6c4f-4c09-8201-382bdc5c28b1",
   "metadata": {},
   "outputs": [],
   "source": [
    "def CreatePrior(mesh):\n",
    "    \n",
    "    # Define the prior distribution\n",
    "    priorVar    = 1.0\n",
    "    priorLength = 0.05\n",
    "    priorNu     = 3.0/2.0\n",
    "    \n",
    "    covKernel = ma.MaternKernel(1, priorVar, priorLength, priorNu) # The first argument \"1\" specifies we are working in 1d\n",
    "    \n",
    "    meanFunc = ma.ZeroMean(1,1) # dimension of x, components in k(x) if it was vector-valued\n",
    "\n",
    "    priorGP = ma.GaussianProcess(meanFunc,covKernel)\n",
    "\n",
    "    return priorGP.Discretize(mesh.cellLocs)"
   ]
  },
  {
   "cell_type": "code",
   "execution_count": 5,
   "id": "a9ed84b7-4575-4cee-a3db-122aa5b5a00f",
   "metadata": {},
   "outputs": [],
   "source": [
    "priorDist = CreatePrior(mesh)\n",
    "priorDens = priorDist.AsDensity()"
   ]
  },
  {
   "cell_type": "markdown",
   "id": "91d8ca9d-ef0c-475b-9a87-a1473683ade1",
   "metadata": {},
   "source": [
    "#### Likelihood Function\n",
    "In the finite element solution, the hydraulic conductivity $h(x)$ will then be piecewise linear and can be characterized by values at the $N+1$ nodes in the discretization.   We will assume that "
   ]
  },
  {
   "cell_type": "code",
   "execution_count": 6,
   "id": "e3809c51-67e1-43bb-a5ff-119f67892bac",
   "metadata": {},
   "outputs": [],
   "source": [
    "def GetTrueLogConductivity(mesh):\n",
    "    return np.cos(10.0*mesh.cellLocs)"
   ]
  },
  {
   "cell_type": "code",
   "execution_count": 7,
   "id": "3a0cb3f6-3401-4b03-a964-367e0a365c5f",
   "metadata": {},
   "outputs": [],
   "source": [
    "def GenerateData(mesh, obsThin, obsVar):\n",
    "\n",
    "    # Generate the data\n",
    "    numRefine = 1\n",
    "    fineMesh = Discretization(numRefine*mesh.numCells)\n",
    "    trueCond = np.exp( GetTrueLogConductivity(fineMesh) )\n",
    "\n",
    "    # Create the model with twice the mesh resolution\n",
    "    recharge = np.ones(fineMesh.numCells)\n",
    "    mod = FlowEquation(recharge)\n",
    "\n",
    "    # Solve the forward problem with the true conductivity\n",
    "    trueSol = mod.Evaluate( trueCond )[0]\n",
    "\n",
    "    # Take every N node as an \"observation\"\n",
    "    slicer = mm.SliceOperator(fineMesh.numNodes,0,fineMesh.numCells,numRefine*obsThin)\n",
    "\n",
    "    return slicer.Evaluate([trueSol])[0] + np.sqrt(obsVar)*np.random.randn(slicer.outputSizes[0])"
   ]
  },
  {
   "cell_type": "code",
   "execution_count": 8,
   "id": "2878dfd7-60c1-4def-a73d-7c31bffc5113",
   "metadata": {},
   "outputs": [],
   "source": [
    "def ConstructLikelihood(mesh, data, obsThin, obsVar, forwardMod):\n",
    "   \n",
    "    graph = mm.WorkGraph()\n",
    "    graph.AddNode(mm.ExpOperator(mesh.numCells), \"Conductivity\")\n",
    "    \n",
    "    graph.AddNode(forwardMod, \"Forward Model\")\n",
    "    graph.AddEdge(\"Conductivity\", 0, \"Forward Model\", 0)\n",
    "    \n",
    "    graph.AddNode(mm.SliceOperator(mesh.numNodes,0,mesh.numCells,obsThin), \"Observables\")\n",
    "    graph.AddEdge(\"Forward Model\", 0, \"Observables\", 0)\n",
    "    \n",
    "    likelihood = mm.Gaussian(data, obsVar*np.ones(data.shape[0]))\n",
    "    \n",
    "    graph.AddNode(likelihood.AsDensity(), \"Likelihood\")\n",
    "    graph.AddEdge(\"Observables\", 0, \"Likelihood\", 0)\n",
    "    \n",
    "    temp = graph.CreateModPiece(\"Likelihood\")\n",
    "    \n",
    "    graph.Visualize(\"LikelihoodGraph.pdf\")\n",
    "    \n",
    "    return temp#graph.CreateModPiece(\"Likelihood\")"
   ]
  },
  {
   "cell_type": "code",
   "execution_count": 9,
   "id": "2a899b4d-0632-477a-badd-0e802efadaab",
   "metadata": {},
   "outputs": [],
   "source": [
    "# Generate synthetic \"truth\" data\n",
    "obsThin = 4\n",
    "obsVar = 0.01*0.01\n",
    "data = GenerateData(mesh, obsThin, obsVar)\n",
    "    \n",
    "# Define the forward model\n",
    "recharge = np.ones(mesh.numCells)\n",
    "forwardMod = FlowEquation(recharge)\n",
    "\n",
    "# Build the likelihood function\n",
    "likelihood = ConstructLikelihood(mesh, data, obsThin, obsVar, forwardMod)"
   ]
  },
  {
   "cell_type": "markdown",
   "id": "ae4f7ea8-fd74-43d2-b726-ec818eb442f0",
   "metadata": {},
   "source": [
    "#### Create Posterior"
   ]
  },
  {
   "cell_type": "code",
   "execution_count": 10,
   "id": "48e29193-903a-4d8e-95b6-ce46f567c16a",
   "metadata": {},
   "outputs": [],
   "source": [
    "def ConstructPosterior(prior, likelihood):\n",
    "   \n",
    "    graph = mm.WorkGraph()\n",
    "    graph.AddNode(mm.IdentityOperator(mesh.numCells), \"Log Conductivity\")\n",
    "    \n",
    "    graph.AddNode(prior, \"Prior\")\n",
    "    graph.AddEdge(\"Log Conductivity\", 0, \"Prior\", 0)\n",
    "    \n",
    "    graph.AddNode(likelihood, \"Likelihood\")\n",
    "    graph.AddEdge(\"Log Conductivity\",0, \"Likelihood\",0)\n",
    "    \n",
    "    graph.AddNode(mm.DensityProduct(2), \"Posterior\")\n",
    "    graph.AddEdge(\"Prior\",0,\"Posterior\",0)\n",
    "    graph.AddEdge(\"Likelihood\",0,\"Posterior\",1)\n",
    "\n",
    "    graph.Visualize(\"PosteriorGraph.pdf\")\n",
    "    \n",
    "    return graph.CreateModPiece(\"Posterior\")"
   ]
  },
  {
   "cell_type": "code",
   "execution_count": 11,
   "id": "bc070b10-fb91-4b2c-bc2d-3dd1445c9fd3",
   "metadata": {},
   "outputs": [],
   "source": [
    "posterior = ConstructPosterior(priorDens, likelihood)"
   ]
  },
  {
   "cell_type": "markdown",
   "id": "8079bcdd-7b1d-4f7c-975d-e63e01317fef",
   "metadata": {},
   "source": [
    "## Compute MAP Point"
   ]
  },
  {
   "cell_type": "code",
   "execution_count": 12,
   "id": "d7f7d75d-54a1-43ce-87d8-e3e50d4b98dd",
   "metadata": {},
   "outputs": [],
   "source": [
    "def ComputeMAP(logPost, startPt):\n",
    "    \n",
    "    options = {\n",
    "        'Algorithm' : 'NewtonTrust', # Newton-Steihaug trust region method.  Options also include NLOPT optimizers like LBFGS\n",
    "        'PrintLevel' : 1,\n",
    "        'Ftol.AbsoluteTolerance' : 1e-4\n",
    "    }\n",
    "    \n",
    "    # Define the objective function as the negative log posterior \n",
    "    objective = mo.ModPieceCostFunction(logPost, -1.0)\n",
    "    \n",
    "    # Construct the optimizer and minimize the objective\n",
    "    solver = mo.Optimizer.Construct(objective, options)\n",
    "    xopt, fopt = solver.Solve([ startPt ])\n",
    "    \n",
    "    return xopt"
   ]
  },
  {
   "cell_type": "code",
   "execution_count": 13,
   "id": "b9b0421a-68cb-4dff-9a7d-36a93dbee8b4",
   "metadata": {},
   "outputs": [
    {
     "name": "stdout",
     "output_type": "stream",
     "text": [
      "[array([-9.98692317])]\n",
      "[array([-584.27674161])]\n",
      "[array([-594.26366478])]\n",
      "Using NewtonTrust optimizer...\n",
      "  Iteration, TrustRadius,       fval,      ||g||\n",
      "          0,       1.000,  5.943e+02,  7.145e+02\n"
     ]
    },
    {
     "ename": "RuntimeError",
     "evalue": "Could not add an edge from \"Forward Model_Gradient[0,0]_Jacobian[0,0]\" to \"Conductivity_Gradient[0,0]_Jacobian[0,1]\" because the source node \"Forward Model_Gradient[0,0]_Jacobian[0,0]\" does not exist in the graph.",
     "output_type": "error",
     "traceback": [
      "\u001b[0;31m---------------------------------------------------------------------------\u001b[0m",
      "\u001b[0;31mRuntimeError\u001b[0m                              Traceback (most recent call last)",
      "\u001b[0;32m<ipython-input-13-dd4ec7fa54a1>\u001b[0m in \u001b[0;36m<module>\u001b[0;34m\u001b[0m\n\u001b[1;32m      4\u001b[0m \u001b[0mprint\u001b[0m\u001b[0;34m(\u001b[0m\u001b[0mlikelihood\u001b[0m\u001b[0;34m.\u001b[0m\u001b[0mEvaluate\u001b[0m\u001b[0;34m(\u001b[0m\u001b[0;34m[\u001b[0m\u001b[0mstartPt\u001b[0m\u001b[0;34m]\u001b[0m\u001b[0;34m)\u001b[0m\u001b[0;34m)\u001b[0m\u001b[0;34m\u001b[0m\u001b[0;34m\u001b[0m\u001b[0m\n\u001b[1;32m      5\u001b[0m \u001b[0mprint\u001b[0m\u001b[0;34m(\u001b[0m\u001b[0mposterior\u001b[0m\u001b[0;34m.\u001b[0m\u001b[0mEvaluate\u001b[0m\u001b[0;34m(\u001b[0m\u001b[0;34m[\u001b[0m\u001b[0mstartPt\u001b[0m\u001b[0;34m]\u001b[0m\u001b[0;34m)\u001b[0m\u001b[0;34m)\u001b[0m\u001b[0;34m\u001b[0m\u001b[0;34m\u001b[0m\u001b[0m\n\u001b[0;32m----> 6\u001b[0;31m \u001b[0mmapPt\u001b[0m \u001b[0;34m=\u001b[0m \u001b[0mComputeMAP\u001b[0m\u001b[0;34m(\u001b[0m\u001b[0mposterior\u001b[0m\u001b[0;34m,\u001b[0m \u001b[0mstartPt\u001b[0m\u001b[0;34m)\u001b[0m\u001b[0;34m\u001b[0m\u001b[0;34m\u001b[0m\u001b[0m\n\u001b[0m",
      "\u001b[0;32m<ipython-input-12-0d0ec3d01dcf>\u001b[0m in \u001b[0;36mComputeMAP\u001b[0;34m(logPost, startPt)\u001b[0m\n\u001b[1;32m     12\u001b[0m     \u001b[0;31m# Construct the optimizer and minimize the objective\u001b[0m\u001b[0;34m\u001b[0m\u001b[0;34m\u001b[0m\u001b[0;34m\u001b[0m\u001b[0m\n\u001b[1;32m     13\u001b[0m     \u001b[0msolver\u001b[0m \u001b[0;34m=\u001b[0m \u001b[0mmo\u001b[0m\u001b[0;34m.\u001b[0m\u001b[0mOptimizer\u001b[0m\u001b[0;34m.\u001b[0m\u001b[0mConstruct\u001b[0m\u001b[0;34m(\u001b[0m\u001b[0mobjective\u001b[0m\u001b[0;34m,\u001b[0m \u001b[0moptions\u001b[0m\u001b[0;34m)\u001b[0m\u001b[0;34m\u001b[0m\u001b[0;34m\u001b[0m\u001b[0m\n\u001b[0;32m---> 14\u001b[0;31m     \u001b[0mxopt\u001b[0m\u001b[0;34m,\u001b[0m \u001b[0mfopt\u001b[0m \u001b[0;34m=\u001b[0m \u001b[0msolver\u001b[0m\u001b[0;34m.\u001b[0m\u001b[0mSolve\u001b[0m\u001b[0;34m(\u001b[0m\u001b[0;34m[\u001b[0m \u001b[0mstartPt\u001b[0m \u001b[0;34m]\u001b[0m\u001b[0;34m)\u001b[0m\u001b[0;34m\u001b[0m\u001b[0;34m\u001b[0m\u001b[0m\n\u001b[0m\u001b[1;32m     15\u001b[0m \u001b[0;34m\u001b[0m\u001b[0m\n\u001b[1;32m     16\u001b[0m     \u001b[0;32mreturn\u001b[0m \u001b[0mxopt\u001b[0m\u001b[0;34m\u001b[0m\u001b[0;34m\u001b[0m\u001b[0m\n",
      "\u001b[0;31mRuntimeError\u001b[0m: Could not add an edge from \"Forward Model_Gradient[0,0]_Jacobian[0,0]\" to \"Conductivity_Gradient[0,0]_Jacobian[0,1]\" because the source node \"Forward Model_Gradient[0,0]_Jacobian[0,0]\" does not exist in the graph."
     ]
    }
   ],
   "source": [
    "# Use a random draw from the prior as a starting point for MCMC\n",
    "startPt = priorDist.GetMean()\n",
    "print(priorDens.Evaluate([startPt]))\n",
    "print(likelihood.Evaluate([startPt]))\n",
    "print(posterior.Evaluate([startPt]))\n",
    "mapPt = ComputeMAP(posterior, startPt)"
   ]
  },
  {
   "cell_type": "markdown",
   "id": "4c13ec12-dc07-4f77-abad-b8500b06df10",
   "metadata": {},
   "source": [
    "#### Plot the MAP Point"
   ]
  },
  {
   "cell_type": "code",
   "execution_count": null,
   "id": "d1cbb50a-8ea0-4243-a22f-8f2174872086",
   "metadata": {},
   "outputs": [],
   "source": [
    "trueLogK = GetTrueLogConductivity(mesh).ravel()\n",
    "\n",
    "fig, axs = plt.subplots(nrows=2,figsize=(12,8))\n",
    "axs[0].plot(mesh.cellLocs.ravel(), mapPt,label='MAP Point')\n",
    "axs[0].plot(mesh.cellLocs.ravel(), trueLogK, '--k', label='True $\\log k(x)$')\n",
    "axs[0].plot(mesh.cellLocs.ravel(), startPt, '--g', label='Starting Point for Optimization')\n",
    "axs[0].legend()\n",
    "\n",
    "truePred = model.Evaluate([trueLogK])[0]\n",
    "mapPred = model.Evaluate([mapPt])[0]\n",
    "startPred = model.Evaluate([startPt])[0]\n",
    "\n",
    "axs[1].plot(mesh.nodeLocs, mapPred, label='Prediction at MAP')\n",
    "axs[1].plot(mesh.nodeLocs, truePred,'--k',label='True Prediction')\n",
    "axs[1].plot(mesh.nodeLocs, startPred, '--g', label='Starting Prediction')\n",
    "axs[1].plot(mesh.nodeLocs[0:-1:obsThin],data,'+k',markersize=12,label='Observations')\n",
    "axs[1].legend()\n",
    "\n",
    "plt.show()"
   ]
  },
  {
   "cell_type": "markdown",
   "id": "756591c9-5f46-4e35-ac91-597b6c237210",
   "metadata": {},
   "source": [
    "## Sample Posterior with DILI"
   ]
  },
  {
   "cell_type": "code",
   "execution_count": null,
   "id": "5ef063f1-0758-4eb6-b232-50449cbe3140",
   "metadata": {},
   "outputs": [],
   "source": [
    "def SampleDILI(posterior, startPt, numSamps):\n",
    "    \n",
    "    lisOpts = {\n",
    "        'Method' : \"MHKernel\",\n",
    "        \"Proposal\" : \"Prop\",\n",
    "        \"Prop.Method\" : \"MALAProposal\",\n",
    "        \"Prop.StepSize\" : 0.15\n",
    "    }\n",
    "    \n",
    "    csOpts = {\n",
    "        \"Method\" : \"MHKernel\",\n",
    "        \"Proposal\" : \"Prop\",\n",
    "        \"Prop.Method\" : \"CrankNicolsonProposal\",\n",
    "        \"Prop.Beta\" : 0.8,\n",
    "        \"Prop.PriorNode\" : \"Prior\"\n",
    "    }\n",
    "    \n",
    "    opts = {\n",
    "        \"NumSamples\" : numSamps,\n",
    "        \"BurnIn\" : 0,\n",
    "        \"PrintLevel\" : 3,\n",
    "        \"HessianType\" : \"Exact\",\n",
    "        \"Adapt Interval\" : 0,\n",
    "        \"Initial Weight\" : 100,\n",
    "        \"Prior Node\" : \"Prior\",\n",
    "        \"Likelihood Node\" : \"Likelihood\",\n",
    "        \"LIS Block\": \"LIS\",\n",
    "        \"LIS\" : lisOpts,\n",
    "        \"CS Block\": \"CS\",\n",
    "        \"CS\" : csOpts\n",
    "    }\n",
    "    \n",
    "    # create a sampling problem\n",
    "    problem = ms.SamplingProblem(posterior)\n",
    "    \n",
    "    # Construct the DILI kernel and MCMC sampler\n",
    "    kernel = ms.DILIKernel(opts, problem)\n",
    "    sampler = ms.SingleChainMCMC(opts, [kernel])\n",
    "    \n",
    "    return sampler.Run([startPt]) "
   ]
  },
  {
   "cell_type": "code",
   "execution_count": null,
   "id": "266cde05-0c43-45aa-a734-d11ecf1ca74f",
   "metadata": {},
   "outputs": [],
   "source": [
    "numSamps = 100000\n",
    "diliSamps = SampleDILI(posterior, mapPt, numSamps)"
   ]
  },
  {
   "cell_type": "code",
   "execution_count": null,
   "id": "11fac7e2-4c1e-4c15-9126-a97ce3a8698a",
   "metadata": {},
   "outputs": [],
   "source": [
    "diliEss = diliSamps.ESS(method='MultiBatch')\n",
    "print('DILI:\\n  Multivariate ESS: {:5d}'.format(int(diliEss[0])))"
   ]
  },
  {
   "cell_type": "markdown",
   "id": "3d7b9ecb-cd9b-4d10-9529-5ea9866f8084",
   "metadata": {},
   "source": [
    "### Plot DILI Results"
   ]
  },
  {
   "cell_type": "code",
   "execution_count": null,
   "id": "e3827960-1ca5-43f0-a4a4-90b935662690",
   "metadata": {},
   "outputs": [],
   "source": [
    "samps = diliSamps.AsMatrix()\n",
    "\n",
    "fig, axs = plt.subplots(nrows=2,sharex=True,figsize=(14,10))\n",
    "axs[0].plot(samps[0,:])\n",
    "axs[0].set_ylabel('$\\log K_0\\f$',fontsize=16)\n",
    "axs[0].set_title('Selected Traces for DILI MCMC',fontsize=18)\n",
    "\n",
    "axs[1].plot(samps[-1,:])\n",
    "axs[1].set_ylabel('$\\log K_{{ {} }}$'.format(samps.shape[0]-1),fontsize=16)\n",
    "axs[1].set_xlabel('MCMC Step', fontsize=16)\n",
    "axs[1].set_xlim([0,samps.shape[1]-1])\n",
    "\n",
    "plt.subplots_adjust(hspace=0.05)"
   ]
  },
  {
   "cell_type": "code",
   "execution_count": null,
   "id": "eb528594-0f54-44c3-8b6d-b1ffc74c2bd4",
   "metadata": {},
   "outputs": [],
   "source": [
    "plt.figure(figsize=(14,5))\n",
    "\n",
    "plotInd = int(0.5*samps.shape[0])\n",
    "plt.acorr(samps[plotInd,:]-np.mean(samps[plotInd:]),maxlags=10000)\n",
    "plt.xlabel('Lag', fontsize=16)\n",
    "plt.ylabel('Autocorrelation', fontsize=16)\n",
    "plt.title('Autocorrelation of $\\log K_{{ {} }}$ in DILI chain'.format(plotInd),fontsize=18)\n",
    "plt.show()"
   ]
  },
  {
   "cell_type": "markdown",
   "id": "ad2f85da-9169-403a-99e5-b94287b472d0",
   "metadata": {},
   "source": [
    "## Sample Posterior with pCN"
   ]
  },
  {
   "cell_type": "code",
   "execution_count": null,
   "id": "7683e03d-91e1-4e1f-aff6-d73660e533be",
   "metadata": {},
   "outputs": [],
   "source": [
    "def SamplePCN(posterior, startPt, numSamps):\n",
    "    \n",
    "    kernOpts = {\n",
    "        \"Method\" : \"MHKernel\",\n",
    "        \"Proposal\" : \"Prop\",\n",
    "        \"Prop.Method\" : \"CrankNicolsonProposal\",\n",
    "        \"Prop.Beta\" : 0.1,\n",
    "        \"Prop.PriorNode\" : \"Prior\"\n",
    "    }\n",
    "    \n",
    "    opts = {\n",
    "        \"NumSamples\" : numSamps, # number of Monte Carlo samples,\n",
    "        \"BurnIn\" : 0,\n",
    "        \"PrintLevel\" : 3,\n",
    "        \"KernelList\" : \"Kernel1\",\n",
    "        \"Kernel1\" : kernOpts\n",
    "    }\n",
    "    \n",
    "    \n",
    "    #create a sampling problem\n",
    "    problem = ms.SamplingProblem(posterior)\n",
    "\n",
    "    sampler = ms.SingleChainMCMC(opts,problem)\n",
    "\n",
    "    return sampler.Run([startPt]) # Use a true posterior sample to avoid burnin"
   ]
  },
  {
   "cell_type": "code",
   "execution_count": null,
   "id": "4a49e3f6-5ba6-4145-af89-29c43544aca2",
   "metadata": {},
   "outputs": [],
   "source": [
    "pcnSamps = SamplePCN(posterior, startPt, numSamps)"
   ]
  },
  {
   "cell_type": "code",
   "execution_count": null,
   "id": "c5ae040b-eaa1-4ace-bfd1-64f88b653a93",
   "metadata": {},
   "outputs": [],
   "source": [
    "pcnEss = pcnSamps.ESS(method='MultiBatch')\n",
    "print('pCN:\\n  Multivariate ESS: {:5d}'.format(int(pcnEss[0])))"
   ]
  },
  {
   "cell_type": "markdown",
   "id": "6fd200eb-b858-4db8-840e-83233cf89562",
   "metadata": {},
   "source": [
    "### Plot pCN Results"
   ]
  },
  {
   "cell_type": "code",
   "execution_count": null,
   "id": "3ba2e0c0-49de-4593-bcd0-fbabae1a78be",
   "metadata": {},
   "outputs": [],
   "source": [
    "samps = pcnSamps.AsMatrix()\n",
    "\n",
    "fig, axs = plt.subplots(nrows=2,sharex=True,figsize=(14,10))\n",
    "axs[0].plot(samps[0,:])\n",
    "axs[0].set_ylabel('$\\log K_0\\f$',fontsize=16)\n",
    "axs[0].set_title('Selected Traces for pCN MCMC',fontsize=18)\n",
    "\n",
    "axs[1].plot(samps[-1,:])\n",
    "axs[1].set_ylabel('$\\log K_{{ {} }}$'.format(samps.shape[0]-1),fontsize=16)\n",
    "axs[1].set_xlabel('MCMC Step', fontsize=16)\n",
    "axs[1].set_xlim([0,samps.shape[1]-1])\n",
    "\n",
    "plt.subplots_adjust(hspace=0.05)\n"
   ]
  },
  {
   "cell_type": "code",
   "execution_count": null,
   "id": "a9eca15e-a3e3-45cc-a456-354d1f25761a",
   "metadata": {},
   "outputs": [],
   "source": [
    "plt.figure(figsize=(14,5))\n",
    "\n",
    "plt.acorr(samps[plotInd,:]-np.mean(samps[plotInd:]),maxlags=10000)\n",
    "plt.xlabel('Lag', fontsize=16)\n",
    "plt.ylabel('Autocorrelation', fontsize=16)\n",
    "plt.title('Autocorrelation $\\log K_{{ {} }}$ in pCN chain'.format(plotInd),fontsize=18)\n",
    "plt.show()"
   ]
  },
  {
   "cell_type": "code",
   "execution_count": null,
   "id": "38caecf2-d490-4b18-bb8a-004c7bff98ba",
   "metadata": {},
   "outputs": [],
   "source": []
  }
 ],
 "metadata": {
  "kernelspec": {
   "display_name": "Python 3",
   "language": "python",
   "name": "python3"
  },
  "language_info": {
   "codemirror_mode": {
    "name": "ipython",
    "version": 3
   },
   "file_extension": ".py",
   "mimetype": "text/x-python",
   "name": "python",
   "nbconvert_exporter": "python",
   "pygments_lexer": "ipython3",
   "version": "3.8.10"
  }
 },
 "nbformat": 4,
 "nbformat_minor": 5
}
