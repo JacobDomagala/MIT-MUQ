{
 "cells": [
  {
   "cell_type": "markdown",
   "metadata": {},
   "source": [
    "# Example 1: Simple Gaussian Sampling\n",
    "## Overview\n",
    "The goal of this example is to demonstrate the use of MUQ's MCMC stack by sampling\n",
    "a simple bivariate Gaussian density.  To keep things as simple as possible, we\n",
    "employ a Metropolis-Hastings transition kernel with a simple random walk proposal.\n",
    "The idea is to introduce the MUQ MCMC workflow without additional the additional\n",
    "complexities that come from more challenging target densities or more complicated\n",
    "MCMC algorithms.\n",
    "\n",
    "### Background\n",
    "Let $x$ denote a random variable taking values in a space $\\mathcal{X}$, and let $\\pi(x)$ denote the\n",
    "probability density of $x$.  In many cases, we cannot compute expectations with\n",
    "respect to $\\pi(x)$ analytically, and we need to resort to some sort of numerical\n",
    "integration.  Typically, such approaches approximate an expectation $\\mathbb{E}_x \\left[f(x)\\right]$,\n",
    "through some sort of weighted sum that takes the form\n",
    "$$\n",
    "\\mathbb{E}_x\\left[f(x)\\right] \\approx \\sum_{k=1}^K w_k f\\left(x^{(k)}\\right).\n",
    "$$\n",
    "In standard Monte Carlo procedures, the weights are constant $w_k=\\frac{1}{K}$ and\n",
    "points $x^{(k)}$ are independent samples of $\\pi(x)$.   However, generating\n",
    "independent samples is not always possible for general $\\pi(x)$.  Markov chain\n",
    "Monte Carlo is one way to get around this.   The basic idea is to create a sequence\n",
    "of points (e.g., a chain) that are correlated, but for large $K$, can still be used in a Monte\n",
    "Carlo approximation.  We further restrict that the chain is Markov, which simply means that $x^{(k)}$\n",
    "depends only on the previous step in the chain $x^{(k-1)}$.\n",
    "\n",
    "#### Transition Kernels\n",
    "The transition from $x^{(k-1)}$ to $x^{(k)}$ is controlled by a probability distribution\n",
    "over $\\mathcal{X}$ called the transition kernel.  This distribution is consturcted\n",
    "to ensure that the chain can be used to form a Monte Carlo approximation as $K\\rightarrow \\infty$.\n",
    "More precisely, the transition kernel is constructed to ensure that the chain forms\n",
    "a stationary random process with stationary distribution $\\pi(x)$ and is ergodic,\n",
    "which ensures the sample mean will converge to the true expecation almost surely\n",
    "as $K\\rightarrow \\infty$.  Note that establishing a central limit theorem and\n",
    "studying the variance of the MCMC estimator requires additional technical conditions\n",
    "on the transition kernel.  See <a href=https://www.springer.com/us/book/9780387212395>Robert and Casella, <i>Monte Carlo Statistical Methods</i></a>\n",
    "for more details.\n",
    "\n",
    "#### Metropolis-Hastings Rule\n",
    "While not the only option, the Metropolis-Hastings rule is one of the most common\n",
    "methods for constructing an appropriate transition kernel.  The idea is to start\n",
    "with a proposal distribution $q(x | x^{(k-1)})$ and then \"correct\" the proposal\n",
    "with an accept/reject step to ensure ergodicity.  The basic procedure is as follows\n",
    "\n",
    "1. Generate a sample $x^\\prime$ from the proposal distribution\n",
    "$$\n",
    "x^\\prime \\sim q(x | x^{(k-1)}).\n",
    "$$\n",
    "\n",
    "2. Compute the acceptance probability $\\gamma$\n",
    "$$\n",
    "\\gamma = \\frac{\\pi(x^\\prime)}{\\pi(x^{(k-1)})} \\frac{q(x^{(k-1)} | x^\\prime)}{q(x^\\prime | x^{(k-1)})}.\n",
    "$$\n",
    "\n",
    "3.  Accept the proposed step $x^\\prime$ as the next state with probability $\\gamma$\n",
    "$$\n",
    "x^{(k)} = \\left\\{ \\begin{array}{lll} x^\\prime & \\text{with probability} & \\gamma\\\\ x^{(k-1)} & \\text{with probability} & 1.0-\\gamma\\end{array}\\right\\}.\n",
    "$$\n",
    "\n",
    "#### Proposal Distributions\n",
    "Clearly, the proposal density $q(x | x^{(k-1)})$ is a key component of the Metropolis-Hastings\n",
    "transition kernel.  Fortunately though, there is incredible flexibility in the\n",
    "choice of proposal; the Metropolis-Hastings correction step ensures, at least\n",
    "asymptotically, that the resulting chain will be ergodic.   While not\n",
    "the most efficient, a common choice of proposal is an isotropic Gaussian distribution\n",
    "centered at $x^{(k-1)}$.  The resulting algorithm is commonly referred to as\n",
    "the \"Random Walk Metropolis\" (RWM) algorithm.  Below, we will use the RWM\n",
    "algorithm in MUQ to sample a simple bivariate Gaussian target density $\\pi(x)$.\n",
    "\n",
    "### MCMC in MUQ\n",
    "The MCMC classes in MUQ are analogous to the mathematical components of an MCMC\n",
    "algorithm: there is a base class representing the chain, another base class representing\n",
    "the transition kernel, and for Metropolis-Hastings, a third base class representing\n",
    "the proposal distribution.  The RWM algorithm can be constructed by combining an\n",
    "instance of the \"SingleChainMCMC\" chain class, with an instance of the \"MHKernel\"\n",
    "transition kernel class, and an instance of the \"RandomWalk\" proposal class.  In\n",
    "later examples, the flexibility of this structure will become clear, as we construct\n",
    "algorithms of increasing complexity by simply exchanging each of these components\n",
    "with alternative chains, kernels, and proposals.\n",
    "\n",
    "## Problem Description\n",
    "Use the Random Walk Metropolis algorithm to sample a two-dimensional normal\n",
    "distribution with mean\n",
    "$$\n",
    "\\mu = \\left[\\begin{array}{c} 1.0\\\\\\\\ 2.0\\end{array}\\right],\n",
    "$$\n",
    "and covariance\n",
    "$$\n",
    "\\Sigma = \\left[\\begin{array}{cc} 1.0 & 0.8 \\\\\\\\ 0.8 & 1.5 \\end{array}\\right].\n",
    "$$\n",
    "\n",
    "## Implementation\n",
    "To sample the Gaussian target, the code needs to do four things:\n",
    "\n",
    "1. Define the target density and set up a sampling problem.\n",
    "\n",
    "2. Construct the RWM algorithm.\n",
    "\n",
    "3. Run the MCMC algorithm.\n",
    "\n",
    "4. Analyze the results.\n",
    "\n",
    "### Import statements\n",
    "Import the MUQ python module.\n",
    "\n",
    "Note: Ensure that the path to your MUQ libraries, e.g. /path/to/MUQ/lib, is in your $PYTHONPATH."
   ]
  },
  {
   "cell_type": "code",
   "execution_count": 19,
   "metadata": {},
   "outputs": [],
   "source": [
    "import pymuqModeling as pmm\n",
    "import numpy as np"
   ]
  },
  {
   "cell_type": "markdown",
   "metadata": {
    "collapsed": true
   },
   "source": [
    "### 1. Define the target density and set up sampling problem\n",
    "  MUQ has extensive tools for combining many model compoenents into larger\n",
    "  more complicated models.  The AbstractSamplingProblem base class and its\n",
    "  children, like the SamplingProblem class, define the interface between\n",
    "  sampling algorithms like MCMC and the models and densities they work with.\n",
    "\n",
    "  Here, we create a very simple target density and then construct a SamplingProblem\n",
    "  directly from the density."
   ]
  },
  {
   "cell_type": "markdown",
   "metadata": {},
   "source": [
    "Define the Target Density:"
   ]
  },
  {
   "cell_type": "code",
   "execution_count": 20,
   "metadata": {
    "collapsed": true
   },
   "outputs": [],
   "source": [
    "mu = np.array([1.0, 2.0])"
   ]
  },
  {
   "cell_type": "code",
   "execution_count": 21,
   "metadata": {
    "collapsed": true
   },
   "outputs": [],
   "source": [
    "cov = np.array([[1.0,0.8],[0.8,1.5]])"
   ]
  },
  {
   "cell_type": "code",
   "execution_count": 22,
   "metadata": {},
   "outputs": [],
   "source": [
    "targetDensity = pmm.Gaussian(mu, cov).AsDensity()"
   ]
  },
  {
   "cell_type": "markdown",
   "metadata": {},
   "source": [
    "Create the Sampling Problem:"
   ]
  },
  {
   "cell_type": "code",
   "execution_count": 23,
   "metadata": {},
   "outputs": [
    {
     "ename": "AttributeError",
     "evalue": "'module' object has no attribute 'SamplingProblem'",
     "output_type": "error",
     "traceback": [
      "\u001b[0;31m---------------------------------------------------------------------------\u001b[0m",
      "\u001b[0;31mAttributeError\u001b[0m                            Traceback (most recent call last)",
      "\u001b[0;32m<ipython-input-23-0323968e9ed6>\u001b[0m in \u001b[0;36m<module>\u001b[0;34m()\u001b[0m\n\u001b[0;32m----> 1\u001b[0;31m \u001b[0mproblem\u001b[0m \u001b[0;34m=\u001b[0m \u001b[0mpmm\u001b[0m\u001b[0;34m.\u001b[0m\u001b[0mSamplingProblem\u001b[0m\u001b[0;34m(\u001b[0m\u001b[0mtargetDensity\u001b[0m\u001b[0;34m)\u001b[0m\u001b[0;34m\u001b[0m\u001b[0m\n\u001b[0m",
      "\u001b[0;31mAttributeError\u001b[0m: 'module' object has no attribute 'SamplingProblem'"
     ]
    }
   ],
   "source": [
    "problem = pmm.SamplingProblem(targetDensity)"
   ]
  },
  {
   "cell_type": "markdown",
   "metadata": {},
   "source": [
    "### 2. Construct the RWM algorithm\n",
    "One of the easiest ways to define an MCMC algorithm is to put all of the algorithm parameters, including the kernel and proposal definitions, in a property tree and then let MUQ construct each of the algorithm components: chain, kernel, and proposal.\n",
    "\n",
    "The boost property tree will have the following entries:\n",
    "\n",
    "- NumSamples : 10000\n",
    "- KernelList \"Kernel1\"\n",
    "- Kernel1\n",
    "   * Method : \"MHKernel\"\n",
    "   * Proposal : \"MyProposal\"\n",
    "   * MyProposal\n",
    "     + Method : \"MHProposal\"\n",
    "     + ProposalVariance : 0.5\n",
    "\n",
    "At the base level, we specify the number of steps in the chain with the entry \"NumSamples\". Note that this number includes any burnin samples.   The kernel is then defined in the \"KernelList\" entry.  The value, \"Kernel1\", specifies a block in the property tree with the kernel definition.  In the \"Kernel1\" block, we set the kernel to \"MHKernel,\" which specifies that we want to use the Metropolis-Hastings kernel.  We also tell MUQ to use the \"MyProposal\" block to define the proposal. The proposal method is specified as \"MHProposal\", which is the random walk proposal used in the RWM algorithm, and the proposal variance is set to 0.5."
   ]
  },
  {
   "cell_type": "code",
   "execution_count": null,
   "metadata": {
    "collapsed": true
   },
   "outputs": [],
   "source": []
  }
 ],
 "metadata": {
  "kernelspec": {
   "display_name": "Python 2",
   "language": "python",
   "name": "python2"
  },
  "language_info": {
   "codemirror_mode": {
    "name": "ipython",
    "version": 2
   },
   "file_extension": ".py",
   "mimetype": "text/x-python",
   "name": "python",
   "nbconvert_exporter": "python",
   "pygments_lexer": "ipython2",
   "version": "2.7.14"
  }
 },
 "nbformat": 4,
 "nbformat_minor": 2
}
