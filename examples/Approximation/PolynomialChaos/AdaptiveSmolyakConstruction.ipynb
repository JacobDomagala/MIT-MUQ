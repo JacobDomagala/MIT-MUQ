{
 "cells": [
  {
   "cell_type": "markdown",
   "metadata": {},
   "source": [
    "# Adaptive Construction of Polynomial Chaos Expansions\n",
    "\n",
    "## Polynomial Chaos Background\n",
    "$$\n",
    "f(\\theta) \\approx \\sum_{\\mathbf{k}\\in \\mathcal{K}} c_\\mathbf{k} \\Phi_{\\mathbf{k}}(\\theta)\n",
    "$$\n",
    "\n",
    "\n",
    "## Imports"
   ]
  },
  {
   "cell_type": "code",
   "execution_count": 1,
   "metadata": {},
   "outputs": [],
   "source": [
    "%matplotlib inline\n",
    "\n",
    "import pymuqModeling as mm\n",
    "import pymuqUtilities as mu\n",
    "import pymuqApproximation as ma\n",
    "from mpl_toolkits.axes_grid1 import make_axes_locatable\n",
    "\n",
    "import numpy as np\n",
    "import matplotlib.pyplot as plt"
   ]
  },
  {
   "cell_type": "markdown",
   "metadata": {},
   "source": [
    "## Define the model\n",
    "To construct a polynomial chaos expansion with MUQ, we need to first define the model as a child of the `ModPiece` class.   Here, we use a built in `ModPiece` called `CosOperator` that simply returns a componentwise cosine of the input."
   ]
  },
  {
   "cell_type": "code",
   "execution_count": 2,
   "metadata": {},
   "outputs": [],
   "source": [
    "dim = 2\n",
    "model = mm.CosOperator(dim)"
   ]
  },
  {
   "cell_type": "markdown",
   "metadata": {},
   "source": [
    "## Define the PCE factory"
   ]
  },
  {
   "cell_type": "code",
   "execution_count": 3,
   "metadata": {},
   "outputs": [],
   "source": [
    "quad1d = ma.GaussPattersonQuadrature()\n",
    "polys1d = ma.Legendre()\n",
    "smolyPCE = ma.AdaptiveSmolyakPCE(model, [quad1d]*dim, [polys1d]*dim);"
   ]
  },
  {
   "cell_type": "markdown",
   "metadata": {},
   "source": [
    "## Construct the PCE"
   ]
  },
  {
   "cell_type": "code",
   "execution_count": 4,
   "metadata": {},
   "outputs": [],
   "source": [
    "# Start with a linear approximation\n",
    "initialOrder = 1\n",
    "multis = mu.MultiIndexFactory.CreateTotalOrder(dim,initialOrder)\n",
    "\n",
    "options = dict()\n",
    "options['ShouldAdapt']  = 1    # After constructing an initial approximation with the terms in \"multis\", should we continue to adapt?\n",
    "options['ErrorTol']     = 5e-4 # Stop when the estimated L2 error is below this value\n",
    "options['MaximumEvals'] = 50   # Stop adapting when more than this many model evaluations has occured"
   ]
  },
  {
   "cell_type": "code",
   "execution_count": 5,
   "metadata": {},
   "outputs": [],
   "source": [
    "pce = smolyPCE.Compute(multis, options);"
   ]
  },
  {
   "cell_type": "code",
   "execution_count": 6,
   "metadata": {},
   "outputs": [
    {
     "name": "stdout",
     "output_type": "stream",
     "text": [
      "Number of Model Evaluations:\n",
      "49\n",
      "\n",
      "Estimated L2 Error:\n",
      "1.0322e-04\n"
     ]
    }
   ],
   "source": [
    "print('Number of Model Evaluations:')\n",
    "print(smolyPCE.NumEvals())\n",
    "\n",
    "print('\\nEstimated L2 Error:')\n",
    "print('%0.4e'%smolyPCE.Error())"
   ]
  },
  {
   "cell_type": "markdown",
   "metadata": {},
   "source": [
    "## Plot the results\n",
    "\n",
    "Before plotting, we need to evaluate the true model and the PCE surrogate at a grid of points.  These evaluations are completed in the following cell."
   ]
  },
  {
   "cell_type": "code",
   "execution_count": 7,
   "metadata": {},
   "outputs": [],
   "source": [
    "numPlot = 50\n",
    "\n",
    "x = np.linspace(-1,1,numPlot)\n",
    "X, Y = np.meshgrid(x,x)\n",
    "\n",
    "trueEvals = np.zeros(X.shape)\n",
    "pceEvals = np.zeros(X.shape)\n",
    "\n",
    "for i in range(numPlot):\n",
    "    for j in range(numPlot):\n",
    "        pt = [X[i,j],Y[i,j]]\n",
    "        \n",
    "        trueEvals[i,j] = model.Evaluate([pt])[0][0]\n",
    "        pceEvals[i,j] = pce.Evaluate([pt])[0][0]        "
   ]
  },
  {
   "cell_type": "markdown",
   "metadata": {},
   "source": [
    "The cell below plots the true model evaluations, the PCE evaluations, and the error.  "
   ]
  },
  {
   "cell_type": "code",
   "execution_count": 8,
   "metadata": {},
   "outputs": [
    {
     "data": {
      "image/png": "[encoded data removed]",
      "text/plain": [
       "<Figure size 1080x504 with 6 Axes>"
      ]
     },
     "metadata": {
      "needs_background": "light"
     },
     "output_type": "display_data"
    }
   ],
   "source": [
    "fig, axs = plt.subplots(ncols=3, figsize=(15,7), gridspec_kw={'wspace':0.5})\n",
    "\n",
    "# Plot the true model\n",
    "im = axs[0].imshow(trueEvals)\n",
    "axs[0].set_title('True Model')\n",
    "\n",
    "divider = make_axes_locatable(axs[0])\n",
    "cax = divider.append_axes('right', size='5%', pad=0.05)\n",
    "fig.colorbar(im, cax=cax, orientation='vertical')\n",
    "\n",
    "# Plot the PCE Surrogate\n",
    "im = axs[1].imshow(pceEvals)\n",
    "axs[1].set_title('PCE Surrogate')\n",
    "\n",
    "divider = make_axes_locatable(axs[1])\n",
    "cax = divider.append_axes('right', size='5%', pad=0.05)\n",
    "fig.colorbar(im, cax=cax, orientation='vertical')\n",
    "\n",
    "\n",
    "im = axs[2].imshow(pceEvals-trueEvals)\n",
    "\n",
    "axs[2].set_title('Error')\n",
    "divider = make_axes_locatable(axs[2])\n",
    "cax = divider.append_axes('right', size='5%', pad=0.05)\n",
    "fig.colorbar(im, cax=cax, orientation='vertical')\n",
    "\n",
    "plt.show()"
   ]
  },
  {
   "cell_type": "markdown",
   "metadata": {},
   "source": [
    "## Propagate Uncertainty"
   ]
  },
  {
   "cell_type": "code",
   "execution_count": 9,
   "metadata": {},
   "outputs": [
    {
     "name": "stdout",
     "output_type": "stream",
     "text": [
      "Prediction Mean:\n",
      "[0.84147098 0.84147098]\n",
      "\n",
      "Prediction Variance:\n",
      "[0.01925094 0.01925094]\n",
      "\n",
      "Prediction Covariance:\n",
      "[[ 1.92509384e-02 -2.23155898e-17]\n",
      " [-2.23155898e-17  1.92509384e-02]]\n"
     ]
    }
   ],
   "source": [
    "print('Prediction Mean:')\n",
    "print(pce.Mean())\n",
    "\n",
    "print('\\nPrediction Variance:')\n",
    "print(pce.Variance())\n",
    "\n",
    "print('\\nPrediction Covariance:')\n",
    "print(pce.Covariance())\n"
   ]
  },
  {
   "cell_type": "markdown",
   "metadata": {},
   "source": [
    "## Sensitivity analysis"
   ]
  },
  {
   "cell_type": "code",
   "execution_count": 10,
   "metadata": {},
   "outputs": [
    {
     "name": "stdout",
     "output_type": "stream",
     "text": [
      "Total Sensitivities:\n",
      "  Output 0 wrt parameter 0 = 1.00e+00\n",
      "  Output 0 wrt parameter 1 = 1.51e-29\n",
      "  Output 1 wrt parameter 0 = 1.49e-29\n",
      "  Output 1 wrt parameter 1 = 1.00e+00\n",
      "\n",
      "All Total Sensitivities:\n",
      "[[1.00000000e+00 1.48914648e-29]\n",
      " [1.50854357e-29 1.00000000e+00]]\n",
      "\n",
      "First Order Sobol Indices:\n",
      "  Output 0 wrt parameter 0 = 1.00e+00\n",
      "  Output 0 wrt parameter 1 = 1.43e-29\n",
      "  Output 1 wrt parameter 0 = 1.44e-29\n",
      "  Output 1 wrt parameter 1 = 1.00e+00\n"
     ]
    }
   ],
   "source": [
    "totalSens1 = pce.TotalSensitivity(0)\n",
    "totalSens2 = pce.TotalSensitivity(1)\n",
    "\n",
    "print('Total Sensitivities:')\n",
    "print('  Output 0 wrt parameter 0 = %0.2e'%totalSens1[0])\n",
    "print('  Output 0 wrt parameter 1 = %0.2e'%totalSens1[1])\n",
    "print('  Output 1 wrt parameter 0 = %0.2e'%totalSens2[0])\n",
    "print('  Output 1 wrt parameter 1 = %0.2e'%totalSens2[1])\n",
    "\n",
    "print('\\nAll Total Sensitivities:')\n",
    "print(pce.TotalSensitivity())\n",
    "\n",
    "mainEffects1 = pce.SobolSensitivity(0)\n",
    "mainEffects2 = pce.SobolSensitivity(1)\n",
    "print('\\nFirst Order Sobol Indices:')\n",
    "print('  Output 0 wrt parameter 0 = %0.2e'%mainEffects1[0])\n",
    "print('  Output 0 wrt parameter 1 = %0.2e'%mainEffects1[1])\n",
    "print('  Output 1 wrt parameter 0 = %0.2e'%mainEffects2[0])\n",
    "print('  Output 1 wrt parameter 1 = %0.2e'%mainEffects2[1])"
   ]
  },
  {
   "cell_type": "code",
   "execution_count": null,
   "metadata": {},
   "outputs": [],
   "source": []
  }
 ],
 "metadata": {
  "kernelspec": {
   "display_name": "Python 3",
   "language": "python",
   "name": "python3"
  },
  "language_info": {
   "codemirror_mode": {
    "name": "ipython",
    "version": 3
   },
   "file_extension": ".py",
   "mimetype": "text/x-python",
   "name": "python",
   "nbconvert_exporter": "python",
   "pygments_lexer": "ipython3",
   "version": "3.6.8"
  }
 },
 "nbformat": 4,
 "nbformat_minor": 2
}
