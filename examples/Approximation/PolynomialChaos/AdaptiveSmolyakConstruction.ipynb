{
 "cells": [
  {
   "cell_type": "markdown",
   "metadata": {},
   "source": [
    "# Adaptive Construction of Polynomial Chaos Expansions\n",
    "\n",
    "## Polynomial Chaos Background\n",
    "$$\n",
    "f(\\theta) \\approx \\sum_{\\mathbf{k}\\in \\mathcal{K}} c_\\mathbf{k} \\Phi_{\\mathbf{k}}(\\theta)\n",
    "$$\n",
    "\n",
    "\n",
    "## Imports"
   ]
  },
  {
   "cell_type": "code",
   "execution_count": 2,
   "metadata": {},
   "outputs": [],
   "source": [
    "%matplotlib inline\n",
    "\n",
    "import pymuqModeling as mm\n",
    "import pymuqUtilities as mu\n",
    "import pymuqApproximationWrappers as ma\n",
    "from mpl_toolkits.axes_grid1 import make_axes_locatable\n",
    "\n",
    "import numpy as np\n",
    "import matplotlib.pyplot as plt"
   ]
  },
  {
   "cell_type": "markdown",
   "metadata": {},
   "source": [
    "## Define the model\n",
    "To construct a polynomial chaos expansion with MUQ, we need to first define the model as a child of the `ModPiece` class.   Here, we use a built in `ModPiece` called `CosOperator` that simply returns a componentwise cosine of the input."
   ]
  },
  {
   "cell_type": "code",
   "execution_count": 12,
   "metadata": {},
   "outputs": [],
   "source": [
    "dim = 2\n",
    "model = mm.CosOperator(dim)"
   ]
  },
  {
   "cell_type": "markdown",
   "metadata": {},
   "source": [
    "## Define the PCE factory"
   ]
  },
  {
   "cell_type": "code",
   "execution_count": 13,
   "metadata": {},
   "outputs": [],
   "source": [
    "quad1d = ma.GaussPattersonQuadrature()\n",
    "polys1d = ma.Legendre()\n",
    "smolyPCE = ma.AdaptiveSmolyakPCE(model, [quad1d]*dim, [polys1d]*dim);"
   ]
  },
  {
   "cell_type": "markdown",
   "metadata": {},
   "source": [
    "## Construct the PCE"
   ]
  },
  {
   "cell_type": "code",
   "execution_count": 14,
   "metadata": {},
   "outputs": [],
   "source": [
    "# Start with a linear approximation\n",
    "initialOrder = 1\n",
    "multis = mu.MultiIndexFactory.CreateTotalOrder(dim,initialOrder)\n",
    "\n",
    "options = dict()\n",
    "options['ShouldAdapt']  = 1    # After constructing an initial approximation with the terms in \"multis\", should we continue to adapt?\n",
    "options['ErrorTol']     = 5e-4 # Stop when the estimated L2 error is below this value\n",
    "options['MaximumEvals'] = 100   # Stop adapting when more than this many model evaluations has occured"
   ]
  },
  {
   "cell_type": "code",
   "execution_count": 15,
   "metadata": {},
   "outputs": [],
   "source": [
    "pce = smolyPCE.Compute(multis, options);"
   ]
  },
  {
   "cell_type": "code",
   "execution_count": 16,
   "metadata": {},
   "outputs": [
    {
     "name": "stdout",
     "output_type": "stream",
     "text": [
      "Number of Model Evaluations:\n",
      "55\n",
      "\n",
      "Estimated L2 Error:\n",
      "2.4408e-02\n"
     ]
    }
   ],
   "source": [
    "print('Number of Model Evaluations:')\n",
    "print(smolyPCE.NumEvals())\n",
    "\n",
    "print('\\nEstimated L2 Error:')\n",
    "print('%0.4e'%smolyPCE.Error())"
   ]
  },
  {
   "cell_type": "markdown",
   "metadata": {},
   "source": [
    "## Plot the results\n",
    "\n",
    "Before plotting, we need to evaluate the true model and the PCE surrogate at a grid of points.  These evaluations are completed in the following cell."
   ]
  },
  {
   "cell_type": "code",
   "execution_count": 17,
   "metadata": {},
   "outputs": [
    {
     "ename": "ValueError",
     "evalue": "\nError evaluating ModPiece:\n  - Input 0 has the wrong size.  Expected size 3, but given input with size 2\n",
     "output_type": "error",
     "traceback": [
      "\u001b[0;31m---------------------------------------------------------------------------\u001b[0m",
      "\u001b[0;31mValueError\u001b[0m                                Traceback (most recent call last)",
      "\u001b[0;32m<ipython-input-17-098b7f8b4251>\u001b[0m in \u001b[0;36m<module>\u001b[0;34m\u001b[0m\n\u001b[1;32m     11\u001b[0m         \u001b[0mpt\u001b[0m \u001b[0;34m=\u001b[0m \u001b[0;34m[\u001b[0m\u001b[0mX\u001b[0m\u001b[0;34m[\u001b[0m\u001b[0mi\u001b[0m\u001b[0;34m,\u001b[0m\u001b[0mj\u001b[0m\u001b[0;34m]\u001b[0m\u001b[0;34m,\u001b[0m\u001b[0mY\u001b[0m\u001b[0;34m[\u001b[0m\u001b[0mi\u001b[0m\u001b[0;34m,\u001b[0m\u001b[0mj\u001b[0m\u001b[0;34m]\u001b[0m\u001b[0;34m]\u001b[0m\u001b[0;34m\u001b[0m\u001b[0;34m\u001b[0m\u001b[0m\n\u001b[1;32m     12\u001b[0m \u001b[0;34m\u001b[0m\u001b[0m\n\u001b[0;32m---> 13\u001b[0;31m         \u001b[0mtrueEvals\u001b[0m\u001b[0;34m[\u001b[0m\u001b[0mi\u001b[0m\u001b[0;34m,\u001b[0m\u001b[0mj\u001b[0m\u001b[0;34m]\u001b[0m \u001b[0;34m=\u001b[0m \u001b[0mmodel\u001b[0m\u001b[0;34m.\u001b[0m\u001b[0mEvaluate\u001b[0m\u001b[0;34m(\u001b[0m\u001b[0;34m[\u001b[0m\u001b[0mpt\u001b[0m\u001b[0;34m]\u001b[0m\u001b[0;34m)\u001b[0m\u001b[0;34m[\u001b[0m\u001b[0;36m0\u001b[0m\u001b[0;34m]\u001b[0m\u001b[0;34m[\u001b[0m\u001b[0;36m0\u001b[0m\u001b[0;34m]\u001b[0m\u001b[0;34m\u001b[0m\u001b[0;34m\u001b[0m\u001b[0m\n\u001b[0m\u001b[1;32m     14\u001b[0m         \u001b[0mpceEvals\u001b[0m\u001b[0;34m[\u001b[0m\u001b[0mi\u001b[0m\u001b[0;34m,\u001b[0m\u001b[0mj\u001b[0m\u001b[0;34m]\u001b[0m \u001b[0;34m=\u001b[0m \u001b[0mpce\u001b[0m\u001b[0;34m.\u001b[0m\u001b[0mEvaluate\u001b[0m\u001b[0;34m(\u001b[0m\u001b[0;34m[\u001b[0m\u001b[0mpt\u001b[0m\u001b[0;34m]\u001b[0m\u001b[0;34m)\u001b[0m\u001b[0;34m[\u001b[0m\u001b[0;36m0\u001b[0m\u001b[0;34m]\u001b[0m\u001b[0;34m[\u001b[0m\u001b[0;36m0\u001b[0m\u001b[0;34m]\u001b[0m\u001b[0;34m\u001b[0m\u001b[0;34m\u001b[0m\u001b[0m\n",
      "\u001b[0;31mValueError\u001b[0m: \nError evaluating ModPiece:\n  - Input 0 has the wrong size.  Expected size 3, but given input with size 2\n"
     ]
    }
   ],
   "source": [
    "numPlot = 50\n",
    "\n",
    "x = np.linspace(-1,1,numPlot)\n",
    "X, Y = np.meshgrid(x,x)\n",
    "\n",
    "trueEvals = np.zeros(X.shape)\n",
    "pceEvals = np.zeros(X.shape)\n",
    "\n",
    "for i in range(numPlot):\n",
    "    for j in range(numPlot):\n",
    "        pt = [X[i,j],Y[i,j]]\n",
    "        \n",
    "        trueEvals[i,j] = model.Evaluate([pt])[0][0]\n",
    "        pceEvals[i,j] = pce.Evaluate([pt])[0][0]        "
   ]
  },
  {
   "cell_type": "markdown",
   "metadata": {},
   "source": [
    "The cell below plots the true model evaluations, the PCE evaluations, and the error.  "
   ]
  },
  {
   "cell_type": "code",
   "execution_count": 18,
   "metadata": {},
   "outputs": [
    {
     "data": {
      "image/png": "[encoded data removed]",
      "text/plain": [
       "<Figure size 1080x504 with 6 Axes>"
      ]
     },
     "metadata": {
      "needs_background": "light"
     },
     "output_type": "display_data"
    }
   ],
   "source": [
    "fig, axs = plt.subplots(ncols=3, figsize=(15,7), gridspec_kw={'wspace':0.5})\n",
    "\n",
    "# Plot the true model\n",
    "im = axs[0].imshow(trueEvals)\n",
    "axs[0].set_title('True Model')\n",
    "\n",
    "divider = make_axes_locatable(axs[0])\n",
    "cax = divider.append_axes('right', size='5%', pad=0.05)\n",
    "fig.colorbar(im, cax=cax, orientation='vertical')\n",
    "\n",
    "# Plot the PCE Surrogate\n",
    "im = axs[1].imshow(pceEvals)\n",
    "axs[1].set_title('PCE Surrogate')\n",
    "\n",
    "divider = make_axes_locatable(axs[1])\n",
    "cax = divider.append_axes('right', size='5%', pad=0.05)\n",
    "fig.colorbar(im, cax=cax, orientation='vertical')\n",
    "\n",
    "\n",
    "im = axs[2].imshow(pceEvals-trueEvals)\n",
    "\n",
    "axs[2].set_title('Error')\n",
    "divider = make_axes_locatable(axs[2])\n",
    "cax = divider.append_axes('right', size='5%', pad=0.05)\n",
    "fig.colorbar(im, cax=cax, orientation='vertical')\n",
    "\n",
    "plt.show()"
   ]
  },
  {
   "cell_type": "markdown",
   "metadata": {},
   "source": [
    "## Propagate Uncertainty"
   ]
  },
  {
   "cell_type": "code",
   "execution_count": 19,
   "metadata": {},
   "outputs": [
    {
     "name": "stdout",
     "output_type": "stream",
     "text": [
      "Prediction Mean:\n",
      "[0.84147098 0.84147098 0.84147098]\n",
      "\n",
      "Prediction Variance:\n",
      "[0.01925094 0.01925094 0.01925094]\n",
      "\n",
      "Prediction Covariance:\n",
      "[[ 1.92509381e-02  2.65849457e-17 -1.86549371e-18]\n",
      " [ 2.65849457e-17  1.92509381e-02 -8.32231338e-18]\n",
      " [-1.86549371e-18 -8.32231338e-18  1.92509384e-02]]\n"
     ]
    }
   ],
   "source": [
    "print('Prediction Mean:')\n",
    "print(pce.Mean())\n",
    "\n",
    "print('\\nPrediction Variance:')\n",
    "print(pce.Variance())\n",
    "\n",
    "print('\\nPrediction Covariance:')\n",
    "print(pce.Covariance())\n"
   ]
  },
  {
   "cell_type": "markdown",
   "metadata": {},
   "source": [
    "## Sensitivity analysis"
   ]
  },
  {
   "cell_type": "code",
   "execution_count": 20,
   "metadata": {},
   "outputs": [
    {
     "name": "stdout",
     "output_type": "stream",
     "text": [
      "Total Sensitivities:\n",
      "  Output 0 wrt parameter 0 = 1.00e+00\n",
      "  Output 0 wrt parameter 1 = 1.79e-30\n",
      "  Output 1 wrt parameter 0 = 1.47e-30\n",
      "  Output 1 wrt parameter 1 = 1.00e+00\n",
      "\n",
      "All Total Sensitivities:\n",
      "[[1.00000000e+00 1.47161546e-30 1.48478915e-29]\n",
      " [1.78565805e-30 1.00000000e+00 1.48478915e-29]\n",
      " [1.48859546e-30 1.54955943e-30 1.00000000e+00]]\n",
      "\n",
      "First Order Sobol Indices:\n",
      "  Output 0 wrt parameter 0 = 1.00e+00\n",
      "  Output 0 wrt parameter 1 = 1.41e-30\n",
      "  Output 1 wrt parameter 0 = 1.16e-30\n",
      "  Output 1 wrt parameter 1 = 1.00e+00\n"
     ]
    }
   ],
   "source": [
    "totalSens1 = pce.TotalSensitivity(0)\n",
    "totalSens2 = pce.TotalSensitivity(1)\n",
    "\n",
    "print('Total Sensitivities:')\n",
    "print('  Output 0 wrt parameter 0 = %0.2e'%totalSens1[0])\n",
    "print('  Output 0 wrt parameter 1 = %0.2e'%totalSens1[1])\n",
    "print('  Output 1 wrt parameter 0 = %0.2e'%totalSens2[0])\n",
    "print('  Output 1 wrt parameter 1 = %0.2e'%totalSens2[1])\n",
    "\n",
    "print('\\nAll Total Sensitivities:')\n",
    "print(pce.TotalSensitivity())\n",
    "\n",
    "mainEffects1 = pce.SobolSensitivity(0)\n",
    "mainEffects2 = pce.SobolSensitivity(1)\n",
    "print('\\nFirst Order Sobol Indices:')\n",
    "print('  Output 0 wrt parameter 0 = %0.2e'%mainEffects1[0])\n",
    "print('  Output 0 wrt parameter 1 = %0.2e'%mainEffects1[1])\n",
    "print('  Output 1 wrt parameter 0 = %0.2e'%mainEffects2[0])\n",
    "print('  Output 1 wrt parameter 1 = %0.2e'%mainEffects2[1])"
   ]
  },
  {
   "cell_type": "code",
   "execution_count": null,
   "metadata": {},
   "outputs": [],
   "source": []
  },
  {
   "cell_type": "code",
   "execution_count": null,
   "metadata": {},
   "outputs": [],
   "source": []
  }
 ],
 "metadata": {
  "kernelspec": {
   "display_name": "Python 3",
   "language": "python",
   "name": "python3"
  },
  "language_info": {
   "codemirror_mode": {
    "name": "ipython",
    "version": 3
   },
   "file_extension": ".py",
   "mimetype": "text/x-python",
   "name": "python",
   "nbconvert_exporter": "python",
   "pygments_lexer": "ipython3",
   "version": "3.7.3"
  }
 },
 "nbformat": 4,
 "nbformat_minor": 2
}
