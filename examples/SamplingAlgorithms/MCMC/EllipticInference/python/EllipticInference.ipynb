{
 "cells": [
  {
   "cell_type": "markdown",
   "id": "6658ce2d-9d26-4e91-a947-b5e6eeae4c2c",
   "metadata": {},
   "source": [
    "## Background\n",
    "\n",
    "A canonical inverse problem is to infer the spatially varying parameter field $K(x)$ in the following elliptic PDE\n",
    "$$\n",
    "-\\nabla\\cdot\\left[ K \\nabla h\\right] = f,\n",
    "$$\n",
    "where $h(x)$ is the solution of the PDE and $f(x)$ is a source term.   We consider this PDE in a one dimensional (i.e., $x\\in\\mathbb{R}$) setting with boundary conditions given by\n",
    "$$\n",
    "\\begin{aligned}\n",
    "h(0) &= 0\\\\\n",
    "\\left. \\frac{\\partial h}{\\partial x}\\right|_{x=1} &= 0.\n",
    "\\end{aligned}\n",
    "$$\n",
    "\n",
    "This equation can be used to describe many different diffusive processes, such as heat conduction, groundwater flow, and contaminant diffusion.    This example interprets the PDE in the context of groundwater flow, meaning that $h(x)$ represents the hydraulic head in a confined aquifer, $f(x)$ represents recharge of water entering the aquifer, and $k(x)$ is the hydraulic conductivity, which describes how difficult it is for water to pass through the aquifer.\n",
    "\n",
    "The hydraulic head $h(x)$ can be measured at individual points $x_1,x_2,\\ldots,x_M$ by drilling boreholes into an aquifer and measuring the pressure in the borehole.  The conductivity $K(x)$ however, cannot be observed directly.   We will therefore consider estimating the hydraulic conductivity $K(x)$ from noisy measurements of $h(x_1), h(x_2),\\ldots, h(x_M)$.\n",
    "\n",
    "\n",
    "\n",
    "**The goal of this example is to demonstrate the use of MUQ for solving Bayesian inverse with PDE models.**   The implementation of the model itself will not be discussed in details.   The implementation of the PDE solver, adjoint gradients, and Hessian information is described in detail in the [FlowEquation](../../../../Modeling/FlowEquation/python/DarcyFlow.ipynb) modeling example.\n",
    "\n",
    "### Imports"
   ]
  },
  {
   "cell_type": "code",
   "execution_count": 1,
   "id": "2654b1d9-6fb4-4e19-802d-337ef91a9771",
   "metadata": {},
   "outputs": [],
   "source": [
    "import muq.Modeling as mm \n",
    "import muq.SamplingAlgorithms as ms \n",
    "import muq.Utilities as mu\n",
    "import muq.Approximation as ma \n",
    "import muq.Optimization as mo\n",
    "\n",
    "from FlowEquation import FlowEquation\n",
    "\n",
    "import numpy as np\n",
    "import matplotlib.pyplot as plt "
   ]
  },
  {
   "cell_type": "markdown",
   "id": "f24242e5-ba5e-405d-b1a1-cebea4197bcc",
   "metadata": {},
   "source": [
    "## Inverse Problem Formulation\n",
    "\n",
    "$\\theta = \\log K$\n",
    "\n",
    "$$\n",
    "\\pi(\\theta | y=y_{obs}) \\propto \\pi(y=y_{obs} | \\theta) \\pi(\\theta)\n",
    "$$\n",
    "\n",
    "#### Discretization\n",
    "Assume that $x\\in[0,1]$ and that the conductivity field is defined as piecwise constant on $N$ uniformly sized cells dividing up $[0,1]$.  There are $N+1$ nodes in the discretization.\n"
   ]
  },
  {
   "cell_type": "code",
   "execution_count": 2,
   "id": "996b710f-3676-491c-8289-a77dafacd186",
   "metadata": {},
   "outputs": [],
   "source": [
    "class Discretization:\n",
    "    \n",
    "    def __init__(self,numCells):\n",
    "        self.numCells = numCells\n",
    "        self.numNodes = numCells+1\n",
    "\n",
    "        self.nodeLocs = np.linspace(0,1,numCells+1)\n",
    "\n",
    "        self.cellLocs = 0.5*(self.nodeLocs[:-1] + self.nodeLocs[1:]).reshape(1,-1)"
   ]
  },
  {
   "cell_type": "code",
   "execution_count": 3,
   "id": "3af101b2-a3e0-41eb-93a7-dca48650fda6",
   "metadata": {},
   "outputs": [],
   "source": [
    "# Define the mesh\n",
    "numCells = 50\n",
    "mesh = Discretization(numCells)"
   ]
  },
  {
   "cell_type": "markdown",
   "id": "a8009346-1451-4b24-a267-c46bac497181",
   "metadata": {},
   "source": [
    "#### Prior Distribution\n",
    "By definition, the conductivity field $K(x)$ must be positive.   We will therefore define a prior distribution $\\log K(x)$ to ensure that $K(x)>0$.   In particular, we will model the log conductivity field as a zero mean Gaussian process with covariance kernel $k(x,x^\\prime)$:\n",
    "\n",
    "$$\n",
    "\\log k(x) \\sim GP(0,k(x,x^\\prime))\n",
    "$$\n",
    "\n",
    "Here, we employ a Matern kernel with parameter $\\nu=3/2$.  This kernel takes the form\n",
    "\n",
    "$$\n",
    "k(x,x^\\prime) = \\sigma^2 \\left(1+\\frac{\\sqrt{3}\\|x-x^\\prime\\|}{L}\\right)\\exp\\left[-\\frac{\\sqrt{3}\\|x-x^\\prime\\|}{L}\\right],\n",
    "$$\n",
    "\n",
    "where $\\sigma^2$ is the marginal variance of the prior distribution and $L$ is the correlation lengthscale of the kernel.  Note that this kernel results in random fields that have continuous first derivatives, but discontinuous second derivatives.   More generally, Matern kernels with $\\nu=p+1/2$ result in fields with $p$ continuous derivatives.\n",
    "\n",
    "The MUQ `GaussianProcess` class is constructed from a mean function and a covariance kernel.  The `Discretize` takes a vector of points and evaluates constructs a finite dimensional Gaussian distribution by evaluating the mean function at each point and the covariance kernel at each pair of points.\n",
    "\n",
    "The discretization of the PDE assumes that $K(x)$ is piecewise constant over grid cell.  Formally setting $\\log K_i$ to the average of $\\log K(x)$ over the cell $[x_i,x_{i+1})$ would result in a prior covariance matrix of the form\n",
    "\n",
    "$$\n",
    "\\text{Cov}\\left[\\log K_i, \\log K_j\\right] = \\frac{1}{(x_{i+1}-x_{i})(x_{j+1}-x_{j})}\\int_{x_i}^{x_{i+1}} \\int_{x_j}^{x_{j+1}} k(x_1,x_2) \\,\\,dx_2dx_1\n",
    "$$\n",
    "\n",
    "where $x_i$ is the location of the node on the left edge of cell $i$.  Here we approximate this covariance by simply evaluating the covariance kernel at the centroids of the cells: \n",
    "\n",
    "$$\n",
    "\\text{Cov}\\left[\\log K_i, \\log K_j\\right] \\approx k\\left(\\frac{1}{2}(x_i + x_{i+1}),\\,\\, \\frac{1}{2}(x_j + x_{j+1}) \\right).\n",
    "$$\n",
    "\n",
    "Note that this is equivalent to approximating the integrals with a midpoint rule and a single interval.\n",
    "\n",
    "**The vector $\\log K = \\left[\\log K_1, \\ldots, \\log K_N\\right]$ will be used to denote the collection of log conductivities on each cell.** "
   ]
  },
  {
   "cell_type": "code",
   "execution_count": 4,
   "id": "fbd44694-6c4f-4c09-8201-382bdc5c28b1",
   "metadata": {},
   "outputs": [],
   "source": [
    "def CreatePrior(mesh):\n",
    "    \n",
    "    # Define the prior distribution\n",
    "    priorVar    = 1.0\n",
    "    priorLength = 0.05\n",
    "    priorNu     = 3.0/2.0\n",
    "    \n",
    "    xDim = 1     # Dimension of x\n",
    "    fieldDim = 1 # Dimension of state variable in random field (i.e., dimension of K(x))\n",
    "    \n",
    "    covKernel = ma.MaternKernel(xDim, priorVar, priorLength, priorNu) # The first argument \"1\" specifies we are working in 1d\n",
    "    \n",
    "    meanFunc = ma.ZeroMean(xDim,fieldDim) # dimension of x, components in k(x) if it was vector-valued\n",
    "\n",
    "    priorGP = ma.GaussianProcess(meanFunc,covKernel)\n",
    "\n",
    "    return priorGP.Discretize(mesh.cellLocs)"
   ]
  },
  {
   "cell_type": "code",
   "execution_count": 5,
   "id": "a9ed84b7-4575-4cee-a3db-122aa5b5a00f",
   "metadata": {},
   "outputs": [],
   "source": [
    "priorDist = CreatePrior(mesh)\n",
    "priorDens = priorDist.AsDensity() # <- Create a ModPiece that evaluates the log density of the Gaussian prior"
   ]
  },
  {
   "cell_type": "markdown",
   "id": "91d8ca9d-ef0c-475b-9a87-a1473683ade1",
   "metadata": {},
   "source": [
    "#### True data\n",
    "After discretizing the PDE, the hydraulic head $h(x)$ is represented as a piecewise linear function characterized by values at the $N+1$ nodes in the discretization.    We will assume that every $P=\\lceil (N+1)/M\\rceil$ of these nodes is observed, resuling in a total of $M$ hydraulic noisy head observations.  Let $y_{obs}$ denote these observations.  \n",
    "\n",
    "For this example, we will synthetically generate data $y_{obs}$ using a \"true\" log conductivity field $\\log K(x) = \\cos(10x)$ and a mesh with $2N$ cells.  Noise with variance $\\sigma^2$ is added to the model output to simulate $y_{obs}$.\n",
    "\n",
    "The `SliceOperator` class in MUQ is used to downscale the model output, which as $2N+1$ components to the observable quantity $y$, which has $M$ components.   Using numpy notation, the output of `SliceOperator` for an input vector $x$ is `x[startInd:endInd:skip]`.   The arguments to the `SliceOperator` constructor are `x.shape[0]`, `startInd`, `endInd`, and `skip`."
   ]
  },
  {
   "cell_type": "code",
   "execution_count": 6,
   "id": "e3809c51-67e1-43bb-a5ff-119f67892bac",
   "metadata": {},
   "outputs": [],
   "source": [
    "def GetTrueLogConductivity(mesh):\n",
    "    return np.cos(10.0*mesh.cellLocs)"
   ]
  },
  {
   "cell_type": "code",
   "execution_count": 7,
   "id": "3a0cb3f6-3401-4b03-a964-367e0a365c5f",
   "metadata": {},
   "outputs": [],
   "source": [
    "def GenerateData(mesh, obsThin, obsVar, numRefine=2):\n",
    "\n",
    "    # Generate the data\n",
    "    fineMesh = Discretization(numRefine*mesh.numCells)\n",
    "    trueCond = np.exp( GetTrueLogConductivity(fineMesh) )\n",
    "\n",
    "    # Create the model with twice the mesh resolution\n",
    "    recharge = np.ones(fineMesh.numCells)\n",
    "    mod = FlowEquation(recharge)\n",
    "\n",
    "    # Solve the forward problem with the true conductivity\n",
    "    trueSol = mod.Evaluate( trueCond )[0]\n",
    "\n",
    "    # Take every N node as an \"observation\"\n",
    "    slicer = mm.SliceOperator(fineMesh.numNodes, 0, fineMesh.numCells, numRefine*obsThin)\n",
    "    \n",
    "    yobs = slicer.Evaluate([trueSol])[0] + np.sqrt(obsVar)*np.random.randn(slicer.outputSizes[0])\n",
    "    \n",
    "    return yobs, trueSol, fineMesh "
   ]
  },
  {
   "cell_type": "code",
   "execution_count": 8,
   "id": "930ff1b0-966e-44de-9ec6-b6171e2ee91e",
   "metadata": {},
   "outputs": [],
   "source": [
    "# The value of thinning parameter \"P\"\n",
    "obsThin = 4  \n",
    "\n",
    "# \\sigma_{\\epsilon}^2\n",
    "obsVar = 0.01*0.01 \n",
    "\n",
    "# Controls the number of cells in the fine mesh used to generate data (numCells = numRefine*N)\n",
    "numRefine = 2 \n",
    "\n",
    "# Generate the data\n",
    "data, trueHead, fineMesh = GenerateData(mesh, obsThin, obsVar,2)"
   ]
  },
  {
   "cell_type": "markdown",
   "id": "10c44e70-a97e-4374-b18c-b4099d449637",
   "metadata": {},
   "source": [
    "We can now plot the noisy observational data and the true hydraulic head $h(x)$ that generated it."
   ]
  },
  {
   "cell_type": "code",
   "execution_count": 9,
   "id": "724d68ea-74e9-47ae-add6-058c316e0423",
   "metadata": {},
   "outputs": [
    {
     "data": {
      "image/png": "[encoded data removed]",
      "text/plain": [
       "<Figure size 1008x432 with 1 Axes>"
      ]
     },
     "metadata": {
      "needs_background": "light"
     },
     "output_type": "display_data"
    }
   ],
   "source": [
    "plt.figure(figsize=(14,6))\n",
    "plt.plot(fineMesh.nodeLocs, trueHead, label='True Solution $h(x)$', linewidth=2)\n",
    "plt.plot(fineMesh.nodeLocs[::obsThin*numRefine], data, '+k', label='Noisy Observations', markersize=15)\n",
    "\n",
    "plt.legend(fontsize=14)\n",
    "plt.xlabel('Position $x$',fontsize=16)\n",
    "plt.ylabel('Hydraulic Head $h(x)$', fontsize=16)\n",
    "plt.show()"
   ]
  },
  {
   "cell_type": "markdown",
   "id": "9464d75c-9844-42ca-b911-ec74598b6913",
   "metadata": {},
   "source": [
    "#### Likelihood Function\n",
    "\n",
    "To define a likelihood function $\\pi(y|\\theta)$, we need to construct a statistical model relating the PDE output $[h(x_0), h(x_P),\\ldots, h(x_M)]$ to the observable quantity $y$.   Here, we assume that $y$ is  related to the hydraulic heads through an additive Gaussian error model\n",
    "\n",
    "$$\n",
    "y = \\left[ \\begin{array}{l} h(x_{0}; \\theta)\\\\ h(x_{P}; \\theta)\\\\ h(x_{2P}; \\theta)\\\\ \\vdots\\\\ h(x_M; \\theta) \\end{array} \\right] + \\epsilon,\n",
    "$$\n",
    "\n",
    "where $\\epsilon\\sim N(0,\\sigma_{\\epsilon}^2I)$ is an $M$-dimensional normal random variable with variance $\\sigma_{\\epsilon}^2$.   With this noise model, the distribution of the observable quantity $y$ given log conductivities $\\theta$  is then just normal distribution centered at the model output\n",
    "\n",
    "$$\n",
    "\\pi(y | \\theta) = N\\left([h(x_0), h(x_P),\\ldots, h(x_M)], \\,\\, \\sigma_{\\epsilon}^2I\\right)\n",
    "$$"
   ]
  },
  {
   "cell_type": "code",
   "execution_count": 10,
   "id": "2878dfd7-60c1-4def-a73d-7c31bffc5113",
   "metadata": {},
   "outputs": [],
   "source": [
    "def ConstructLikelihood(mesh, data, obsThin, obsVar, forwardMod):\n",
    "   \n",
    "    graph = mm.WorkGraph()\n",
    "    graph.AddNode(mm.ExpOperator(mesh.numCells), \"Conductivity\")\n",
    "    \n",
    "    graph.AddNode(forwardMod, \"Forward Model\")\n",
    "    graph.AddEdge(\"Conductivity\", 0, \"Forward Model\", 0)\n",
    "    \n",
    "    graph.AddNode(mm.SliceOperator(mesh.numNodes,0,mesh.numCells,obsThin), \"Observables\")\n",
    "    graph.AddEdge(\"Forward Model\", 0, \"Observables\", 0)\n",
    "    \n",
    "    likelihood = mm.Gaussian(data, obsVar*np.ones(data.shape[0]))\n",
    "    \n",
    "    graph.AddNode(likelihood.AsDensity(), \"Likelihood\")\n",
    "    graph.AddEdge(\"Observables\", 0, \"Likelihood\", 0)\n",
    "    \n",
    "    graph.Visualize(\"LikelihoodGraph.png\")\n",
    "    \n",
    "    return graph.CreateModPiece(\"Likelihood\"), graph.CreateModPiece(\"Forward Model\")"
   ]
  },
  {
   "cell_type": "code",
   "execution_count": 11,
   "id": "2a899b4d-0632-477a-badd-0e802efadaab",
   "metadata": {},
   "outputs": [],
   "source": [
    "# Define the forward model\n",
    "recharge = np.ones(mesh.numCells)\n",
    "forwardMod = FlowEquation(recharge)\n",
    "\n",
    "# Build the likelihood function and the mapping from logK->h\n",
    "likelihood, model = ConstructLikelihood(mesh, data, obsThin, obsVar, forwardMod)"
   ]
  },
  {
   "cell_type": "markdown",
   "id": "c5d53695-95e0-4142-b086-d02719e5de11",
   "metadata": {},
   "source": [
    "If [graphviz](https://graphviz.org/) is installed on your computer, the `graph.Visualize()` function will produce a file called \"LikelihoodGraph.png\" with a visualization of the components making up the likelihood function.   The following markdown cell displays the image that is produced."
   ]
  },
  {
   "cell_type": "markdown",
   "id": "6d79e792-b2ee-438d-b0fc-96245af333ee",
   "metadata": {},
   "source": [
    "<img src=\"./LikelihoodGraph.png\" alt=\"Likelihood Graph\" width=\"300\"/>"
   ]
  },
  {
   "cell_type": "markdown",
   "id": "ae4f7ea8-fd74-43d2-b726-ec818eb442f0",
   "metadata": {},
   "source": [
    "#### Create Posterior\n",
    "Using the likelihood function and prior density defined above, it is now possible to combine them to define the posterior density.   The `DensityProduct` ModPiece is used for this.  It takes 2 or more inputs representing log densities and returns the log of the density product (i.e., the sum of the log densities)."
   ]
  },
  {
   "cell_type": "code",
   "execution_count": 12,
   "id": "48e29193-903a-4d8e-95b6-ce46f567c16a",
   "metadata": {},
   "outputs": [],
   "source": [
    "def ConstructPosterior(prior, likelihood):\n",
    "   \n",
    "    graph = mm.WorkGraph()\n",
    "    graph.AddNode(mm.IdentityOperator(mesh.numCells), \"Log Conductivity\")\n",
    "    \n",
    "    graph.AddNode(prior, \"Prior\")\n",
    "    graph.AddEdge(\"Log Conductivity\", 0, \"Prior\", 0)\n",
    "    \n",
    "    graph.AddNode(likelihood, \"Likelihood\")\n",
    "    graph.AddEdge(\"Log Conductivity\",0, \"Likelihood\",0)\n",
    "    \n",
    "    graph.AddNode(mm.DensityProduct(2), \"Posterior\")\n",
    "    graph.AddEdge(\"Prior\",0,\"Posterior\",0)\n",
    "    graph.AddEdge(\"Likelihood\",0,\"Posterior\",1)\n",
    "\n",
    "    graph.Visualize(\"PosteriorGraph.png\")\n",
    "    \n",
    "    return graph.CreateModPiece(\"Posterior\")"
   ]
  },
  {
   "cell_type": "code",
   "execution_count": 13,
   "id": "bc070b10-fb91-4b2c-bc2d-3dd1445c9fd3",
   "metadata": {},
   "outputs": [],
   "source": [
    "posterior = ConstructPosterior(priorDens, likelihood)"
   ]
  },
  {
   "cell_type": "markdown",
   "id": "e03335ea-69ef-4f87-8409-ec73a343322a",
   "metadata": {},
   "source": [
    "Like we did for the likelihood function above, it is possible to visualize the direct graph used to define the posterior density using the `Visualize` function of the `WorkGraph` class."
   ]
  },
  {
   "cell_type": "markdown",
   "id": "48e3831b-73a1-4eb5-b550-2e7c9c711244",
   "metadata": {},
   "source": [
    "<img src=\"./PosteriorGraph.png\" alt=\"Likelihood Graph\" width=\"400\"/>"
   ]
  },
  {
   "cell_type": "markdown",
   "id": "8079bcdd-7b1d-4f7c-975d-e63e01317fef",
   "metadata": {},
   "source": [
    "## Compute MAP Point\n",
    "Now that we've define the posterior, we can start trying to estimate the parameters $\\theta = \\log K$ in the model.  The following cell computes the MAP point using MUQ's Newton-Steihaug trust region optimizer.   The optimizer minimizes function, while we want to maximize the log posterior density.  The `ModPieceCostFunction` class allows us to specify a negative scaling of the log posterior to flip the maximization problem into a minimization problem that the optimizer can handle.    \n",
    "\n",
    "In addition to the trust region solver used here, MUQ also can also leverage any method implemented in [NLOPT](https://nlopt.readthedocs.io/en/latest/).  Try changing the `'NewtonTrust'` string to `'LBFGS'` to use the NLOPT limited memory BFGS implementation."
   ]
  },
  {
   "cell_type": "code",
   "execution_count": 14,
   "id": "d7f7d75d-54a1-43ce-87d8-e3e50d4b98dd",
   "metadata": {},
   "outputs": [],
   "source": [
    "def ComputeMAP(logPost, startPt):\n",
    "    \n",
    "    options = {\n",
    "        'Algorithm' : 'NewtonTrust', # Newton-Steihaug trust region method.  Options also include NLOPT optimizers like LBFGS\n",
    "        'PrintLevel' : 1,\n",
    "        'Ftol.AbsoluteTolerance' : 1e-4\n",
    "    }\n",
    "    \n",
    "    # Define the objective function as the negative log posterior \n",
    "    objective = mo.ModPieceCostFunction(logPost, -1.0)\n",
    "    \n",
    "    # Construct the optimizer and minimize the objective\n",
    "    solver = mo.Optimizer.Construct(objective, options)\n",
    "    xopt, fopt = solver.Solve([ startPt ])\n",
    "    \n",
    "    return xopt"
   ]
  },
  {
   "cell_type": "code",
   "execution_count": 17,
   "id": "b9b0421a-68cb-4dff-9a7d-36a93dbee8b4",
   "metadata": {},
   "outputs": [
    {
     "ename": "RuntimeError",
     "evalue": "Could not add an edge from \"Forward Model_Gradient[0,0]_Jacobian[0,0]\" to \"Conductivity_Gradient[0,0]_Jacobian[0,1]\" because the source node \"Forward Model_Gradient[0,0]_Jacobian[0,0]\" does not exist in the graph.",
     "output_type": "error",
     "traceback": [
      "\u001b[0;31m---------------------------------------------------------------------------\u001b[0m",
      "\u001b[0;31mRuntimeError\u001b[0m                              Traceback (most recent call last)",
      "\u001b[0;32m<ipython-input-17-3824ad428deb>\u001b[0m in \u001b[0;36m<module>\u001b[0;34m\u001b[0m\n\u001b[1;32m      1\u001b[0m \u001b[0;31m# Use a random draw from the prior as a starting point for MCMC\u001b[0m\u001b[0;34m\u001b[0m\u001b[0;34m\u001b[0m\u001b[0;34m\u001b[0m\u001b[0m\n\u001b[1;32m      2\u001b[0m \u001b[0mstartPt\u001b[0m \u001b[0;34m=\u001b[0m \u001b[0mpriorDist\u001b[0m\u001b[0;34m.\u001b[0m\u001b[0mGetMean\u001b[0m\u001b[0;34m(\u001b[0m\u001b[0;34m)\u001b[0m\u001b[0;34m\u001b[0m\u001b[0;34m\u001b[0m\u001b[0m\n\u001b[0;32m----> 3\u001b[0;31m \u001b[0mhessAct\u001b[0m \u001b[0;34m=\u001b[0m \u001b[0mposterior\u001b[0m\u001b[0;34m.\u001b[0m\u001b[0mApplyHessian\u001b[0m\u001b[0;34m(\u001b[0m\u001b[0;36m0\u001b[0m\u001b[0;34m,\u001b[0m\u001b[0;36m0\u001b[0m\u001b[0;34m,\u001b[0m\u001b[0;36m0\u001b[0m\u001b[0;34m,\u001b[0m\u001b[0;34m[\u001b[0m\u001b[0mstartPt\u001b[0m\u001b[0;34m]\u001b[0m\u001b[0;34m,\u001b[0m\u001b[0mnp\u001b[0m\u001b[0;34m.\u001b[0m\u001b[0mones\u001b[0m\u001b[0;34m(\u001b[0m\u001b[0;36m1\u001b[0m\u001b[0;34m)\u001b[0m\u001b[0;34m,\u001b[0m \u001b[0mnp\u001b[0m\u001b[0;34m.\u001b[0m\u001b[0mrandom\u001b[0m\u001b[0;34m.\u001b[0m\u001b[0mrand\u001b[0m\u001b[0;34m(\u001b[0m\u001b[0mstartPt\u001b[0m\u001b[0;34m.\u001b[0m\u001b[0mshape\u001b[0m\u001b[0;34m[\u001b[0m\u001b[0;36m0\u001b[0m\u001b[0;34m]\u001b[0m\u001b[0;34m)\u001b[0m\u001b[0;34m)\u001b[0m\u001b[0;34m\u001b[0m\u001b[0;34m\u001b[0m\u001b[0m\n\u001b[0m\u001b[1;32m      4\u001b[0m \u001b[0mprint\u001b[0m\u001b[0;34m(\u001b[0m\u001b[0mhessAct\u001b[0m\u001b[0;34m)\u001b[0m\u001b[0;34m\u001b[0m\u001b[0;34m\u001b[0m\u001b[0m\n\u001b[1;32m      5\u001b[0m \u001b[0;34m\u001b[0m\u001b[0m\n",
      "\u001b[0;31mRuntimeError\u001b[0m: Could not add an edge from \"Forward Model_Gradient[0,0]_Jacobian[0,0]\" to \"Conductivity_Gradient[0,0]_Jacobian[0,1]\" because the source node \"Forward Model_Gradient[0,0]_Jacobian[0,0]\" does not exist in the graph."
     ]
    }
   ],
   "source": [
    "# Use a random draw from the prior as a starting point for MCMC\n",
    "startPt = priorDist.GetMean()\n",
    "hessAct = posterior.ApplyHessian(0,0,0,[startPt],np.ones(1), np.random.rand(startPt.shape[0]))\n",
    "print(hessAct)\n",
    "\n",
    "mapPt = ComputeMAP(posterior, startPt)\n",
    "\n",
    "print(mapPt)"
   ]
  },
  {
   "cell_type": "markdown",
   "id": "4c13ec12-dc07-4f77-abad-b8500b06df10",
   "metadata": {},
   "source": [
    "#### Plot the MAP Point"
   ]
  },
  {
   "cell_type": "code",
   "execution_count": null,
   "id": "d1cbb50a-8ea0-4243-a22f-8f2174872086",
   "metadata": {},
   "outputs": [],
   "source": [
    "trueLogK = GetTrueLogConductivity(mesh).ravel()\n",
    "\n",
    "fig, axs = plt.subplots(nrows=2,figsize=(12,8))\n",
    "axs[0].plot(mesh.cellLocs.ravel(), mapPt,label='MAP Point')\n",
    "axs[0].plot(mesh.cellLocs.ravel(), trueLogK, '--k', label='True $\\log k(x)$')\n",
    "axs[0].plot(mesh.cellLocs.ravel(), startPt, '--g', label='Starting Point for Optimization')\n",
    "axs[0].legend()\n",
    "\n",
    "truePred = model.Evaluate([trueLogK])[0]\n",
    "mapPred = model.Evaluate([mapPt])[0]\n",
    "startPred = model.Evaluate([startPt])[0]\n",
    "\n",
    "axs[1].plot(mesh.nodeLocs, mapPred, label='Prediction at MAP')\n",
    "axs[1].plot(mesh.nodeLocs, truePred,'--k',label='True Prediction')\n",
    "axs[1].plot(mesh.nodeLocs, startPred, '--g', label='Starting Prediction')\n",
    "axs[1].plot(mesh.nodeLocs[0:-1:obsThin],data,'+k',markersize=12,label='Observations')\n",
    "axs[1].legend()\n",
    "\n",
    "plt.show()"
   ]
  },
  {
   "cell_type": "markdown",
   "id": "756591c9-5f46-4e35-ac91-597b6c237210",
   "metadata": {},
   "source": [
    "## Sample Posterior with DILI"
   ]
  },
  {
   "cell_type": "code",
   "execution_count": null,
   "id": "5ef063f1-0758-4eb6-b232-50449cbe3140",
   "metadata": {},
   "outputs": [],
   "source": [
    "def SampleDILI(posterior, startPt, numSamps):\n",
    "    \n",
    "    lisOpts = {\n",
    "        'Method' : \"MHKernel\",\n",
    "        \"Proposal\" : \"Prop\",\n",
    "        \"Prop.Method\" : \"MALAProposal\",\n",
    "        \"Prop.StepSize\" : 0.15\n",
    "    }\n",
    "    \n",
    "    csOpts = {\n",
    "        \"Method\" : \"MHKernel\",\n",
    "        \"Proposal\" : \"Prop\",\n",
    "        \"Prop.Method\" : \"CrankNicolsonProposal\",\n",
    "        \"Prop.Beta\" : 0.8,\n",
    "        \"Prop.PriorNode\" : \"Prior\"\n",
    "    }\n",
    "    \n",
    "    opts = {\n",
    "        \"NumSamples\" : numSamps,\n",
    "        \"BurnIn\" : 0,\n",
    "        \"PrintLevel\" : 3,\n",
    "        \"HessianType\" : \"Exact\",\n",
    "        \"Adapt Interval\" : 0,\n",
    "        \"Initial Weight\" : 100,\n",
    "        \"Prior Node\" : \"Prior\",\n",
    "        \"Likelihood Node\" : \"Likelihood\",\n",
    "        \"LIS Block\": \"LIS\",\n",
    "        \"LIS\" : lisOpts,\n",
    "        \"CS Block\": \"CS\",\n",
    "        \"CS\" : csOpts\n",
    "    }\n",
    "    \n",
    "    # create a sampling problem\n",
    "    problem = ms.SamplingProblem(posterior)\n",
    "    \n",
    "    # Construct the DILI kernel and MCMC sampler\n",
    "    kernel = ms.DILIKernel(opts, problem)\n",
    "    sampler = ms.SingleChainMCMC(opts, [kernel])\n",
    "    \n",
    "    return sampler.Run([startPt]) "
   ]
  },
  {
   "cell_type": "code",
   "execution_count": null,
   "id": "266cde05-0c43-45aa-a734-d11ecf1ca74f",
   "metadata": {},
   "outputs": [],
   "source": [
    "numSamps = 100000\n",
    "diliSamps = SampleDILI(posterior, mapPt, numSamps)"
   ]
  },
  {
   "cell_type": "code",
   "execution_count": null,
   "id": "11fac7e2-4c1e-4c15-9126-a97ce3a8698a",
   "metadata": {},
   "outputs": [],
   "source": [
    "diliEss = diliSamps.ESS(method='MultiBatch')\n",
    "print('DILI:\\n  Multivariate ESS: {:5d}'.format(int(diliEss[0])))"
   ]
  },
  {
   "cell_type": "markdown",
   "id": "3d7b9ecb-cd9b-4d10-9529-5ea9866f8084",
   "metadata": {},
   "source": [
    "### Plot DILI Results"
   ]
  },
  {
   "cell_type": "code",
   "execution_count": null,
   "id": "e3827960-1ca5-43f0-a4a4-90b935662690",
   "metadata": {},
   "outputs": [],
   "source": [
    "samps = diliSamps.AsMatrix()\n",
    "\n",
    "fig, axs = plt.subplots(nrows=2,sharex=True,figsize=(14,10))\n",
    "axs[0].plot(samps[0,:])\n",
    "axs[0].set_ylabel('$\\log K_0\\f$',fontsize=16)\n",
    "axs[0].set_title('Selected Traces for DILI MCMC',fontsize=18)\n",
    "\n",
    "axs[1].plot(samps[-1,:])\n",
    "axs[1].set_ylabel('$\\log K_{{ {} }}$'.format(samps.shape[0]-1),fontsize=16)\n",
    "axs[1].set_xlabel('MCMC Step', fontsize=16)\n",
    "axs[1].set_xlim([0,samps.shape[1]-1])\n",
    "\n",
    "plt.subplots_adjust(hspace=0.05)"
   ]
  },
  {
   "cell_type": "code",
   "execution_count": null,
   "id": "eb528594-0f54-44c3-8b6d-b1ffc74c2bd4",
   "metadata": {},
   "outputs": [],
   "source": [
    "plt.figure(figsize=(14,5))\n",
    "\n",
    "plotInd = int(0.5*samps.shape[0])\n",
    "plt.acorr(samps[plotInd,:]-np.mean(samps[plotInd:]),maxlags=10000)\n",
    "plt.xlabel('Lag', fontsize=16)\n",
    "plt.ylabel('Autocorrelation', fontsize=16)\n",
    "plt.title('Autocorrelation of $\\log K_{{ {} }}$ in DILI chain'.format(plotInd),fontsize=18)\n",
    "plt.show()"
   ]
  },
  {
   "cell_type": "markdown",
   "id": "ad2f85da-9169-403a-99e5-b94287b472d0",
   "metadata": {},
   "source": [
    "## Sample Posterior with pCN"
   ]
  },
  {
   "cell_type": "code",
   "execution_count": null,
   "id": "7683e03d-91e1-4e1f-aff6-d73660e533be",
   "metadata": {},
   "outputs": [],
   "source": [
    "def SamplePCN(posterior, startPt, numSamps):\n",
    "    \n",
    "    kernOpts = {\n",
    "        \"Method\" : \"MHKernel\",\n",
    "        \"Proposal\" : \"Prop\",\n",
    "        \"Prop.Method\" : \"CrankNicolsonProposal\",\n",
    "        \"Prop.Beta\" : 0.1,\n",
    "        \"Prop.PriorNode\" : \"Prior\"\n",
    "    }\n",
    "    \n",
    "    opts = {\n",
    "        \"NumSamples\" : numSamps, # number of Monte Carlo samples,\n",
    "        \"BurnIn\" : 0,\n",
    "        \"PrintLevel\" : 3,\n",
    "        \"KernelList\" : \"Kernel1\",\n",
    "        \"Kernel1\" : kernOpts\n",
    "    }\n",
    "    \n",
    "    \n",
    "    #create a sampling problem\n",
    "    problem = ms.SamplingProblem(posterior)\n",
    "\n",
    "    sampler = ms.SingleChainMCMC(opts,problem)\n",
    "\n",
    "    return sampler.Run([startPt]) # Use a true posterior sample to avoid burnin"
   ]
  },
  {
   "cell_type": "code",
   "execution_count": null,
   "id": "4a49e3f6-5ba6-4145-af89-29c43544aca2",
   "metadata": {},
   "outputs": [],
   "source": [
    "pcnSamps = SamplePCN(posterior, startPt, numSamps)"
   ]
  },
  {
   "cell_type": "code",
   "execution_count": null,
   "id": "c5ae040b-eaa1-4ace-bfd1-64f88b653a93",
   "metadata": {},
   "outputs": [],
   "source": [
    "pcnEss = pcnSamps.ESS(method='MultiBatch')\n",
    "print('pCN:\\n  Multivariate ESS: {:5d}'.format(int(pcnEss[0])))"
   ]
  },
  {
   "cell_type": "markdown",
   "id": "6fd200eb-b858-4db8-840e-83233cf89562",
   "metadata": {},
   "source": [
    "### Plot pCN Results"
   ]
  },
  {
   "cell_type": "code",
   "execution_count": null,
   "id": "3ba2e0c0-49de-4593-bcd0-fbabae1a78be",
   "metadata": {},
   "outputs": [],
   "source": [
    "samps = pcnSamps.AsMatrix()\n",
    "\n",
    "fig, axs = plt.subplots(nrows=2,sharex=True,figsize=(14,10))\n",
    "axs[0].plot(samps[0,:])\n",
    "axs[0].set_ylabel('$\\log K_0\\f$',fontsize=16)\n",
    "axs[0].set_title('Selected Traces for pCN MCMC',fontsize=18)\n",
    "\n",
    "axs[1].plot(samps[-1,:])\n",
    "axs[1].set_ylabel('$\\log K_{{ {} }}$'.format(samps.shape[0]-1),fontsize=16)\n",
    "axs[1].set_xlabel('MCMC Step', fontsize=16)\n",
    "axs[1].set_xlim([0,samps.shape[1]-1])\n",
    "\n",
    "plt.subplots_adjust(hspace=0.05)\n"
   ]
  },
  {
   "cell_type": "code",
   "execution_count": null,
   "id": "a9eca15e-a3e3-45cc-a456-354d1f25761a",
   "metadata": {},
   "outputs": [],
   "source": [
    "plt.figure(figsize=(14,5))\n",
    "\n",
    "plt.acorr(samps[plotInd,:]-np.mean(samps[plotInd:]),maxlags=10000)\n",
    "plt.xlabel('Lag', fontsize=16)\n",
    "plt.ylabel('Autocorrelation', fontsize=16)\n",
    "plt.title('Autocorrelation $\\log K_{{ {} }}$ in pCN chain'.format(plotInd),fontsize=18)\n",
    "plt.show()"
   ]
  },
  {
   "cell_type": "code",
   "execution_count": null,
   "id": "38caecf2-d490-4b18-bb8a-004c7bff98ba",
   "metadata": {},
   "outputs": [],
   "source": []
  }
 ],
 "metadata": {
  "kernelspec": {
   "display_name": "Python 3",
   "language": "python",
   "name": "python3"
  },
  "language_info": {
   "codemirror_mode": {
    "name": "ipython",
    "version": 3
   },
   "file_extension": ".py",
   "mimetype": "text/x-python",
   "name": "python",
   "nbconvert_exporter": "python",
   "pygments_lexer": "ipython3",
   "version": "3.8.10"
  }
 },
 "nbformat": 4,
 "nbformat_minor": 5
}
