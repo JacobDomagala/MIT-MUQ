{
 "cells": [
  {
   "cell_type": "markdown",
   "metadata": {},
   "source": [
    "# Adaptive Construction of Polynomial Chaos Expansions\n",
    "\n",
    "## Polynomial Chaos Background\n",
    "Our goal is to approximation a function $f(x)$ using a finite polynomial expansion.  More precisely, we seek an expansion of the form \n",
    "\n",
    "$$\n",
    "\\tilde{f}(x) = \\sum_{\\mathbf{k}\\in \\mathcal{K}} c_\\mathbf{k} \\Phi_{\\mathbf{k}}(x),\n",
    "$$\n",
    "\n",
    "where $\\mathbf{k}$ is a multiindex in the set $\\mathcal{K}$, $c_\\mathbf{k}\\in\\mathbb{R}$ is a scalar coefficient, and $\\Phi_{\\mathbf{k}}(x)$ is a multivariate polynomial.  Our goal is to determine the multiindex set $\\mathcal{K}$ and the coefficients $c_\\mathbf{k}$ to minimize the weighted $L^2$ error of the expansion:\n",
    "\n",
    "$$\n",
    "\\|\\tilde{f}(x) - f(x)\\|^2 = \\int_\\Omega \\left(\\tilde{f}(x)-f(x)\\right)^2 p(x) dx,\n",
    "$$\n",
    "\n",
    "where $p(x)$ is a probability density with support $\\Omega$.  MUQ adaptively constructs $\\tilde{f}(x)$ using the Smolyak pseudo spectral approach of [Conrad and Marzouk, 2012](https://arxiv.org/pdf/1209.1406.pdf).\n",
    "\n",
    "## Imports"
   ]
  },
  {
   "cell_type": "code",
   "execution_count": 1,
   "metadata": {},
   "outputs": [],
   "source": [
    "%matplotlib inline\n",
    "\n",
    "import pymuqModeling as mm\n",
    "import pymuqUtilities as mu\n",
    "import pymuqApproximationWrappers as ma\n",
    "from mpl_toolkits.axes_grid1 import make_axes_locatable\n",
    "\n",
    "from ipywidgets import interact\n",
    "import ipywidgets as widgets \n",
    "from matplotlib.collections import PatchCollection\n",
    "import matplotlib.patches as patches\n",
    "from matplotlib.pyplot import cm\n",
    "\n",
    "import numpy as np\n",
    "import matplotlib.pyplot as plt"
   ]
  },
  {
   "cell_type": "markdown",
   "metadata": {},
   "source": [
    "## Define the model\n",
    "To construct a polynomial chaos expansion with MUQ, we need to first define the model as a child of the `ModPiece` class.   Here, we use a built in `ModPiece` called `CosOperator` that simply returns a componentwise cosine of the input."
   ]
  },
  {
   "cell_type": "code",
   "execution_count": 2,
   "metadata": {},
   "outputs": [],
   "source": [
    "dim = 2\n",
    "model = mm.CosOperator(dim)"
   ]
  },
  {
   "cell_type": "markdown",
   "metadata": {},
   "source": [
    "## Define the PCE factory"
   ]
  },
  {
   "cell_type": "code",
   "execution_count": 3,
   "metadata": {},
   "outputs": [],
   "source": [
    "#quad1d = ma.ClenshawCurtisQuadrature()\n",
    "quad1d = ma.GaussPattersonQuadrature()\n",
    "polys1d = ma.Legendre()\n",
    "smolyPCE = ma.AdaptiveSmolyakPCE(model, [quad1d]*dim, [polys1d]*dim);"
   ]
  },
  {
   "cell_type": "markdown",
   "metadata": {},
   "source": [
    "## Construct the PCE"
   ]
  },
  {
   "cell_type": "code",
   "execution_count": 4,
   "metadata": {},
   "outputs": [],
   "source": [
    "# Start with a linear approximation\n",
    "initialOrder = 1\n",
    "multis = mu.MultiIndexFactory.CreateTotalOrder(dim,initialOrder)\n",
    "\n",
    "options = dict()\n",
    "options['ShouldAdapt']  = 1    # After constructing an initial approximation with the terms in \"multis\", should we continue to adapt?\n",
    "options['ErrorTol']     = 1e-8 # Stop when the estimated L2 error is below this value\n",
    "options['MaximumEvals'] = 200   # Stop adapting when more than this many model evaluations has occured"
   ]
  },
  {
   "cell_type": "code",
   "execution_count": 5,
   "metadata": {},
   "outputs": [],
   "source": [
    "pce = smolyPCE.Compute(multis, options);"
   ]
  },
  {
   "cell_type": "code",
   "execution_count": 6,
   "metadata": {},
   "outputs": [
    {
     "name": "stdout",
     "output_type": "stream",
     "text": [
      "Number of Model Evaluations:\n",
      "65\n",
      "\n",
      "Estimated L2 Error:\n",
      "2.4831e-12\n"
     ]
    }
   ],
   "source": [
    "print('Number of Model Evaluations:')\n",
    "print(smolyPCE.NumEvals())\n",
    "\n",
    "print('\\nEstimated L2 Error:')\n",
    "print('%0.4e'%smolyPCE.Error())"
   ]
  },
  {
   "cell_type": "markdown",
   "metadata": {},
   "source": [
    "### Plot the convergence diagnostics"
   ]
  },
  {
   "cell_type": "code",
   "execution_count": 7,
   "metadata": {},
   "outputs": [],
   "source": [
    "errorHist = smolyPCE.ErrorHistory()\n",
    "evalHist = smolyPCE.EvalHistory()\n",
    "timeHist = smolyPCE.TimeHistory()"
   ]
  },
  {
   "cell_type": "code",
   "execution_count": 8,
   "metadata": {},
   "outputs": [
    {
     "data": {
      "image/png": "[encoded data removed]",
      "text/plain": [
       "<matplotlib.figure.Figure at 0x7f75b193ea20>"
      ]
     },
     "metadata": {
      "needs_background": "light"
     },
     "output_type": "display_data"
    }
   ],
   "source": [
    "fig, axs = plt.subplots(ncols=3,sharey=True,figsize=(10,4))\n",
    "\n",
    "axs[0].semilogy(errorHist,'*-')\n",
    "axs[0].set_ylabel('Global Error Indicator')\n",
    "axs[0].set_xlabel('Number of Adaptations')\n",
    "axs[0].semilogy([0, len(errorHist)-1], [options['ErrorTol'],options['ErrorTol']],'--k')\n",
    "\n",
    "axs[1].semilogy(evalHist, errorHist,'*-',linewidth=2)\n",
    "axs[1].set_xlabel('Number of Evaluations')\n",
    "axs[1].semilogy([evalHist[0], evalHist[-1]], [options['ErrorTol'],options['ErrorTol']],'--k')\n",
    "\n",
    "axs[2].semilogy(timeHist, errorHist,'*-',linewidth=2)\n",
    "axs[2].semilogy([timeHist[0], timeHist[-1]], [options['ErrorTol'],options['ErrorTol']],'--k')\n",
    "\n",
    "axs[2].set_xlabel('Runtime (s)')\n",
    "\n",
    "plt.subplots_adjust(wspace=0.02)\n",
    "plt.show()"
   ]
  },
  {
   "cell_type": "markdown",
   "metadata": {},
   "source": [
    "### Plot the model points and Smolyak terms"
   ]
  },
  {
   "cell_type": "code",
   "execution_count": 9,
   "metadata": {},
   "outputs": [],
   "source": [
    "ptHist = smolyPCE.PointHistory()\n",
    "termHist = smolyPCE.TermHistory()"
   ]
  },
  {
   "cell_type": "code",
   "execution_count": 10,
   "metadata": {},
   "outputs": [
    {
     "data": {
      "application/vnd.jupyter.widget-view+json": {
       "model_id": "2ace610bf9a74ee6bcdf971f2c58ec96",
       "version_major": 2,
       "version_minor": 0
      },
      "text/plain": [
       "interactive(children=(IntSlider(value=6, description='AdaptIt', max=6), Output()), _dom_classes=('widget-inter…"
      ]
     },
     "metadata": {},
     "output_type": "display_data"
    }
   ],
   "source": [
    "colors=cm.tab20(np.linspace(0,1,len(termHist)))\n",
    "\n",
    "def PlotAdaptation(AdaptIt):\n",
    "\n",
    "    fig, axs = plt.subplots(ncols=2,figsize=(11,5))\n",
    "\n",
    "    for it in range(AdaptIt+1):\n",
    "\n",
    "        pts_x = [pt[0] for pt in ptHist[it]]\n",
    "        pts_y = [pt[1] for pt in ptHist[it]]\n",
    "        axs[0].plot(pts_x,pts_y, '.',markersize=14,color=colors[it])\n",
    "        \n",
    "        # Create a Rectangle patch\n",
    "        boxes=[]\n",
    "        for term in termHist[it]:\n",
    "            termVec = term.GetVector()\n",
    "            boxes.append( patches.Rectangle((termVec[0]-0.5,termVec[1]-0.5),1.0,1.0))\n",
    "\n",
    "        axs[1].add_collection(PatchCollection(boxes, facecolor=colors[it]))\n",
    "        \n",
    "    axs[0].set_xlim([-1.1,1.1])\n",
    "    axs[0].set_ylim([-1.1,1.1])\n",
    "\n",
    "    axs[0].set_xlabel('$x_1$')\n",
    "    axs[0].set_ylabel('$x_1$')\n",
    "    axs[0].set_title('Evaluation Points (Iteration %d)'%AdaptIt)\n",
    "\n",
    "    axs[1].set_xlim([-0.5,7.5])\n",
    "    axs[1].set_ylim([-0.5,7.5])\n",
    "\n",
    "    axs[1].set_ylabel('Order in $x_1$')\n",
    "    axs[1].set_ylabel('Order in $x_2$')\n",
    "    axs[1].set_title('Smolyak Terms (Iteration %d)'%AdaptIt)\n",
    "    \n",
    "\n",
    "interact(PlotAdaptation, AdaptIt=widgets.IntSlider(min=0, max=len(ptHist)-1, step=1, value=len(ptHist)-1));\n"
   ]
  },
  {
   "cell_type": "markdown",
   "metadata": {},
   "source": [
    "### Plot the polynoial terms in the PCE"
   ]
  },
  {
   "cell_type": "code",
   "execution_count": 11,
   "metadata": {},
   "outputs": [
    {
     "data": {
      "image/png": "[encoded data removed]",
      "text/plain": [
       "<matplotlib.figure.Figure at 0x7f75af65eb38>"
      ]
     },
     "metadata": {
      "needs_background": "light"
     },
     "output_type": "display_data"
    }
   ],
   "source": [
    "fig = plt.figure(figsize=(8,8))\n",
    "\n",
    "polyTerms = pce.Multis()\n",
    "\n",
    "# A list of rectangular patches.  One for each term\n",
    "boxes=[]\n",
    "\n",
    "# Loop over all of the multiindices \n",
    "maxOrderX = 0 # \n",
    "maxOrderY = 0\n",
    "for i in range(polyTerms.Size()):\n",
    "    termVec = polyTerms.at(i).GetVector()\n",
    "    \n",
    "    boxes.append( patches.Rectangle((termVec[0]-0.5,termVec[1]-0.5),1.0,1.0))\n",
    "    \n",
    "    maxOrderX = np.max([maxOrderX, termVec[0]])\n",
    "    maxOrderY = np.max([maxOrderY, termVec[1]])\n",
    "\n",
    "    \n",
    "plt.gca().add_collection(PatchCollection(boxes,edgecolors='k'))\n",
    "plt.xlim(-0.5,maxOrderX+2)\n",
    "plt.ylim(-0.5,maxOrderY+2)\n",
    "\n",
    "plt.xlabel('X order')\n",
    "plt.ylabel('Y Order')\n",
    "plt.title('Polynomial terms in PCE')\n",
    "plt.show()"
   ]
  },
  {
   "cell_type": "markdown",
   "metadata": {},
   "source": [
    "## Plot the PCE predictions\n",
    "\n",
    "Before plotting, we need to evaluate the true model and the PCE surrogate at a grid of points.  These evaluations are completed in the following cell."
   ]
  },
  {
   "cell_type": "code",
   "execution_count": 12,
   "metadata": {},
   "outputs": [],
   "source": [
    "numPlot = 50\n",
    "\n",
    "x = np.linspace(-1,1,numPlot)\n",
    "X, Y = np.meshgrid(x,x)\n",
    "\n",
    "trueEvals = np.zeros(X.shape)\n",
    "pceEvals = np.zeros(X.shape)\n",
    "\n",
    "for i in range(numPlot):\n",
    "    for j in range(numPlot):\n",
    "        pt = [X[i,j],Y[i,j]]\n",
    "        \n",
    "        trueEvals[i,j] = model.Evaluate([pt])[0][0]\n",
    "        pceEvals[i,j] = pce.Evaluate([pt])[0][0]        "
   ]
  },
  {
   "cell_type": "markdown",
   "metadata": {},
   "source": [
    "The cell below plots the true model evaluations, the PCE evaluations, and the error.  "
   ]
  },
  {
   "cell_type": "code",
   "execution_count": 13,
   "metadata": {},
   "outputs": [
    {
     "data": {
      "image/png": "[encoded data removed]",
      "text/plain": [
       "<matplotlib.figure.Figure at 0x7f75e2d4ea90>"
      ]
     },
     "metadata": {
      "needs_background": "light"
     },
     "output_type": "display_data"
    }
   ],
   "source": [
    "fig, axs = plt.subplots(ncols=3, figsize=(15,7), gridspec_kw={'wspace':0.5})\n",
    "\n",
    "# Plot the true model\n",
    "im = axs[0].imshow(trueEvals)\n",
    "axs[0].set_title('True Model')\n",
    "\n",
    "divider = make_axes_locatable(axs[0])\n",
    "cax = divider.append_axes('right', size='5%', pad=0.05)\n",
    "fig.colorbar(im, cax=cax, orientation='vertical')\n",
    "\n",
    "# Plot the PCE Surrogate\n",
    "im = axs[1].imshow(pceEvals)\n",
    "axs[1].set_title('PCE Surrogate')\n",
    "\n",
    "divider = make_axes_locatable(axs[1])\n",
    "cax = divider.append_axes('right', size='5%', pad=0.05)\n",
    "fig.colorbar(im, cax=cax, orientation='vertical')\n",
    "\n",
    "\n",
    "im = axs[2].imshow(pceEvals-trueEvals)\n",
    "\n",
    "axs[2].set_title('Error')\n",
    "divider = make_axes_locatable(axs[2])\n",
    "cax = divider.append_axes('right', size='5%', pad=0.05)\n",
    "fig.colorbar(im, cax=cax, orientation='vertical')\n",
    "\n",
    "plt.show()"
   ]
  },
  {
   "cell_type": "markdown",
   "metadata": {},
   "source": [
    "## Propagate Uncertainty"
   ]
  },
  {
   "cell_type": "code",
   "execution_count": 14,
   "metadata": {},
   "outputs": [
    {
     "name": "stdout",
     "output_type": "stream",
     "text": [
      "Prediction Mean:\n",
      "[0.84147098 0.84147098]\n",
      "\n",
      "Prediction Variance:\n",
      "[0.01925094 0.01925094]\n",
      "\n",
      "Prediction Covariance:\n",
      "[[1.92509384e-02 3.17557995e-19]\n",
      " [3.17557995e-19 1.92509384e-02]]\n"
     ]
    }
   ],
   "source": [
    "print('Prediction Mean:')\n",
    "print(pce.Mean())\n",
    "\n",
    "print('\\nPrediction Variance:')\n",
    "print(pce.Variance())\n",
    "\n",
    "print('\\nPrediction Covariance:')\n",
    "print(pce.Covariance())\n"
   ]
  },
  {
   "cell_type": "markdown",
   "metadata": {},
   "source": [
    "## Sensitivity analysis"
   ]
  },
  {
   "cell_type": "code",
   "execution_count": 15,
   "metadata": {},
   "outputs": [
    {
     "name": "stdout",
     "output_type": "stream",
     "text": [
      "Total Sensitivities:\n",
      "  Output 0 wrt parameter 0 = 1.00e+00\n",
      "  Output 0 wrt parameter 1 = 1.47e-29\n",
      "  Output 1 wrt parameter 0 = 1.46e-29\n",
      "  Output 1 wrt parameter 1 = 1.00e+00\n",
      "\n",
      "All Total Sensitivities:\n",
      "[[1.00000000e+00 1.46011825e-29]\n",
      " [1.46655073e-29 1.00000000e+00]]\n",
      "\n",
      "First Order Sobol Indices:\n",
      "  Output 0 wrt parameter 0 = 1.00e+00\n",
      "  Output 0 wrt parameter 1 = 1.43e-29\n",
      "  Output 1 wrt parameter 0 = 1.44e-29\n",
      "  Output 1 wrt parameter 1 = 1.00e+00\n"
     ]
    }
   ],
   "source": [
    "totalSens1 = pce.TotalSensitivity(0)\n",
    "totalSens2 = pce.TotalSensitivity(1)\n",
    "\n",
    "print('Total Sensitivities:')\n",
    "print('  Output 0 wrt parameter 0 = %0.2e'%totalSens1[0])\n",
    "print('  Output 0 wrt parameter 1 = %0.2e'%totalSens1[1])\n",
    "print('  Output 1 wrt parameter 0 = %0.2e'%totalSens2[0])\n",
    "print('  Output 1 wrt parameter 1 = %0.2e'%totalSens2[1])\n",
    "\n",
    "print('\\nAll Total Sensitivities:')\n",
    "print(pce.TotalSensitivity())\n",
    "\n",
    "mainEffects1 = pce.SobolSensitivity(0)\n",
    "mainEffects2 = pce.SobolSensitivity(1)\n",
    "print('\\nFirst Order Sobol Indices:')\n",
    "print('  Output 0 wrt parameter 0 = %0.2e'%mainEffects1[0])\n",
    "print('  Output 0 wrt parameter 1 = %0.2e'%mainEffects1[1])\n",
    "print('  Output 1 wrt parameter 0 = %0.2e'%mainEffects2[0])\n",
    "print('  Output 1 wrt parameter 1 = %0.2e'%mainEffects2[1])"
   ]
  },
  {
   "cell_type": "code",
   "execution_count": null,
   "metadata": {},
   "outputs": [],
   "source": []
  },
  {
   "cell_type": "code",
   "execution_count": null,
   "metadata": {},
   "outputs": [],
   "source": []
  }
 ],
 "metadata": {
  "kernelspec": {
   "display_name": "Python 3",
   "language": "python",
   "name": "python3"
  },
  "language_info": {
   "codemirror_mode": {
    "name": "ipython",
    "version": 3
   },
   "file_extension": ".py",
   "mimetype": "text/x-python",
   "name": "python",
   "nbconvert_exporter": "python",
   "pygments_lexer": "ipython3",
   "version": "3.6.3"
  }
 },
 "nbformat": 4,
 "nbformat_minor": 4
}
